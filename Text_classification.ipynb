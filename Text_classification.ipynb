{
 "cells": [
  {
   "cell_type": "markdown",
   "metadata": {
    "id": "4IX-WiFDvye2"
   },
   "source": [
    "# Bước 1: Import Modules"
   ]
  },
  {
   "cell_type": "code",
   "execution_count": 1,
   "metadata": {
    "colab": {
     "base_uri": "https://localhost:8080/"
    },
    "executionInfo": {
     "elapsed": 5456,
     "status": "ok",
     "timestamp": 1670304402322,
     "user": {
      "displayName": "TÂM NGUYỄN MINH",
      "userId": "18113162964843854047"
     },
     "user_tz": -420
    },
    "id": "abfi74zoAxqq",
    "outputId": "f504549a-95d8-4326-c5f6-10325ad87464"
   },
   "outputs": [
    {
     "name": "stdout",
     "output_type": "stream",
     "text": [
      "Requirement already satisfied: py_vncorenlp in c:\\users\\takhu\\anaconda3\\envs\\nlp\\lib\\site-packages (0.1.3)\n",
      "Requirement already satisfied: pyjnius in c:\\users\\takhu\\anaconda3\\envs\\nlp\\lib\\site-packages (from py_vncorenlp) (1.4.2)\n",
      "Requirement already satisfied: six>=1.7.0 in c:\\users\\takhu\\anaconda3\\envs\\nlp\\lib\\site-packages (from pyjnius->py_vncorenlp) (1.16.0)\n"
     ]
    }
   ],
   "source": [
    "!pip install py_vncorenlp"
   ]
  },
  {
   "cell_type": "code",
   "execution_count": 2,
   "metadata": {
    "_cell_guid": "b1076dfc-b9ad-4769-8c92-a6c4dae69d19",
    "_uuid": "8f2839f25d086af736a60e9eeb907d3b93b6e0e5",
    "id": "6jfdr_tDBJIx"
   },
   "outputs": [],
   "source": [
    "import matplotlib.pyplot as plt\n",
    "import pandas as pd\n",
    "import numpy as np\n",
    "import tensorflow as tf\n",
    "import os\n",
    "np.random.seed(0)\n",
    "\n",
    "from pre_process import *\n",
    "from utils import *\n",
    "\n",
    "import pickle\n",
    "from sklearn.preprocessing import LabelEncoder\n",
    "from sklearn.feature_extraction.text import TfidfVectorizer\n",
    "from sklearn.naive_bayes import MultinomialNB\n",
    "from sklearn.linear_model import LogisticRegression\n",
    "from sklearn import svm\n",
    "from sklearn.metrics import accuracy_score, f1_score, classification_report\n",
    "from sklearn.model_selection import GridSearchCV, RandomizedSearchCV\n",
    "from sklearn.pipeline import Pipeline"
   ]
  },
  {
   "cell_type": "markdown",
   "metadata": {
    "id": "71-O3NuDXHa_"
   },
   "source": [
    "## Bước 2: Import data"
   ]
  },
  {
   "cell_type": "code",
   "execution_count": 3,
   "metadata": {
    "id": "aEMM9oTsjZZA"
   },
   "outputs": [],
   "source": [
    "path = '.'\n",
    "data_path = path + '/Data_fixed'"
   ]
  },
  {
   "cell_type": "code",
   "execution_count": 4,
   "metadata": {
    "id": "jIkwpKYSzvBg"
   },
   "outputs": [],
   "source": [
    "train, train_fail_images = load_file(data_path+'/Train.txt')\n",
    "dev, dev_fail_images = load_file(data_path+'/Val.txt')\n",
    "test, test_fail_images = load_file(data_path+'/Test.txt')"
   ]
  },
  {
   "cell_type": "code",
   "execution_count": 5,
   "metadata": {
    "colab": {
     "base_uri": "https://localhost:8080/",
     "height": 424
    },
    "executionInfo": {
     "elapsed": 2332,
     "status": "ok",
     "timestamp": 1670304528711,
     "user": {
      "displayName": "TÂM NGUYỄN MINH",
      "userId": "18113162964843854047"
     },
     "user_tz": -420
    },
    "id": "IA9I26uW5u9s",
    "outputId": "8013c50d-f2b0-4b5c-da30-b3459f71ba5b"
   },
   "outputs": [
    {
     "data": {
      "text/html": [
       "<div>\n",
       "<style scoped>\n",
       "    .dataframe tbody tr th:only-of-type {\n",
       "        vertical-align: middle;\n",
       "    }\n",
       "\n",
       "    .dataframe tbody tr th {\n",
       "        vertical-align: top;\n",
       "    }\n",
       "\n",
       "    .dataframe thead th {\n",
       "        text-align: right;\n",
       "    }\n",
       "</style>\n",
       "<table border=\"1\" class=\"dataframe\">\n",
       "  <thead>\n",
       "    <tr style=\"text-align: right;\">\n",
       "      <th></th>\n",
       "      <th>transcription</th>\n",
       "      <th>points</th>\n",
       "      <th>text</th>\n",
       "      <th>label</th>\n",
       "      <th>link</th>\n",
       "      <th>image</th>\n",
       "    </tr>\n",
       "  </thead>\n",
       "  <tbody>\n",
       "    <tr>\n",
       "      <th>0</th>\n",
       "      <td>SPY/title/0</td>\n",
       "      <td>[[237, 673], [595, 673], [595, 540], [237, 540]]</td>\n",
       "      <td>SPY</td>\n",
       "      <td>title</td>\n",
       "      <td>0</td>\n",
       "      <td>image_0.jpg</td>\n",
       "    </tr>\n",
       "    <tr>\n",
       "      <th>1</th>\n",
       "      <td>ROOM/title/1</td>\n",
       "      <td>[[618, 621], [954, 621], [954, 540], [618, 540]]</td>\n",
       "      <td>ROOM</td>\n",
       "      <td>title</td>\n",
       "      <td>1</td>\n",
       "      <td>image_0.jpg</td>\n",
       "    </tr>\n",
       "    <tr>\n",
       "      <th>2</th>\n",
       "      <td>LỚP HỌC ĐIỆP VIÊN/title/2</td>\n",
       "      <td>[[621, 677], [954, 677], [954, 636], [621, 636]]</td>\n",
       "      <td>LỚP HỌC ĐIỆP VIÊN</td>\n",
       "      <td>title</td>\n",
       "      <td>2</td>\n",
       "      <td>image_0.jpg</td>\n",
       "    </tr>\n",
       "    <tr>\n",
       "      <th>3</th>\n",
       "      <td>\"MANAMUSUME\" GRETE/title/3</td>\n",
       "      <td>[[694, 756], [952, 756], [952, 733], [694, 733]]</td>\n",
       "      <td>\"MANAMUSUME\" GRETE</td>\n",
       "      <td>title</td>\n",
       "      <td>3</td>\n",
       "      <td>image_0.jpg</td>\n",
       "    </tr>\n",
       "    <tr>\n",
       "      <th>4</th>\n",
       "      <td>02/title/4</td>\n",
       "      <td>[[851, 936], [956, 936], [956, 863], [851, 863]]</td>\n",
       "      <td>02</td>\n",
       "      <td>title</td>\n",
       "      <td>4</td>\n",
       "      <td>image_0.jpg</td>\n",
       "    </tr>\n",
       "    <tr>\n",
       "      <th>...</th>\n",
       "      <td>...</td>\n",
       "      <td>...</td>\n",
       "      <td>...</td>\n",
       "      <td>...</td>\n",
       "      <td>...</td>\n",
       "      <td>...</td>\n",
       "    </tr>\n",
       "    <tr>\n",
       "      <th>53787</th>\n",
       "      <td>100.000/other/4</td>\n",
       "      <td>[[90, 414], [178, 399], [176, 383], [88, 399]]</td>\n",
       "      <td>100.000</td>\n",
       "      <td>other</td>\n",
       "      <td>4</td>\n",
       "      <td>image_999.jpg</td>\n",
       "    </tr>\n",
       "    <tr>\n",
       "      <th>53788</th>\n",
       "      <td>BẢN/other/5</td>\n",
       "      <td>[[118, 425], [151, 420], [150, 407], [117, 412]]</td>\n",
       "      <td>BẢN</td>\n",
       "      <td>other</td>\n",
       "      <td>5</td>\n",
       "      <td>image_999.jpg</td>\n",
       "    </tr>\n",
       "    <tr>\n",
       "      <th>53789</th>\n",
       "      <td>truyện dài/other/6</td>\n",
       "      <td>[[285, 411], [377, 420], [381, 407], [291, 398]]</td>\n",
       "      <td>truyện dài</td>\n",
       "      <td>other</td>\n",
       "      <td>6</td>\n",
       "      <td>image_999.jpg</td>\n",
       "    </tr>\n",
       "    <tr>\n",
       "      <th>53790</th>\n",
       "      <td>in lần thứ 27/other/7</td>\n",
       "      <td>[[258, 423], [372, 433], [377, 421], [263, 410]]</td>\n",
       "      <td>in lần thứ 27</td>\n",
       "      <td>other</td>\n",
       "      <td>7</td>\n",
       "      <td>image_999.jpg</td>\n",
       "    </tr>\n",
       "    <tr>\n",
       "      <th>53791</th>\n",
       "      <td>nguyễn nhật ánh/author/0</td>\n",
       "      <td>[[114, 139], [522, 164], [529, 102], [133, 78]]</td>\n",
       "      <td>nguyễn nhật ánh</td>\n",
       "      <td>author</td>\n",
       "      <td>0</td>\n",
       "      <td>image_999.jpg</td>\n",
       "    </tr>\n",
       "  </tbody>\n",
       "</table>\n",
       "<p>53792 rows × 6 columns</p>\n",
       "</div>"
      ],
      "text/plain": [
       "                    transcription  \\\n",
       "0                     SPY/title/0   \n",
       "1                    ROOM/title/1   \n",
       "2       LỚP HỌC ĐIỆP VIÊN/title/2   \n",
       "3      \"MANAMUSUME\" GRETE/title/3   \n",
       "4                      02/title/4   \n",
       "...                           ...   \n",
       "53787             100.000/other/4   \n",
       "53788                 BẢN/other/5   \n",
       "53789          truyện dài/other/6   \n",
       "53790       in lần thứ 27/other/7   \n",
       "53791    nguyễn nhật ánh/author/0   \n",
       "\n",
       "                                                 points                text  \\\n",
       "0      [[237, 673], [595, 673], [595, 540], [237, 540]]                 SPY   \n",
       "1      [[618, 621], [954, 621], [954, 540], [618, 540]]                ROOM   \n",
       "2      [[621, 677], [954, 677], [954, 636], [621, 636]]   LỚP HỌC ĐIỆP VIÊN   \n",
       "3      [[694, 756], [952, 756], [952, 733], [694, 733]]  \"MANAMUSUME\" GRETE   \n",
       "4      [[851, 936], [956, 936], [956, 863], [851, 863]]                  02   \n",
       "...                                                 ...                 ...   \n",
       "53787    [[90, 414], [178, 399], [176, 383], [88, 399]]             100.000   \n",
       "53788  [[118, 425], [151, 420], [150, 407], [117, 412]]                 BẢN   \n",
       "53789  [[285, 411], [377, 420], [381, 407], [291, 398]]          truyện dài   \n",
       "53790  [[258, 423], [372, 433], [377, 421], [263, 410]]       in lần thứ 27   \n",
       "53791   [[114, 139], [522, 164], [529, 102], [133, 78]]     nguyễn nhật ánh   \n",
       "\n",
       "        label link          image  \n",
       "0       title    0    image_0.jpg  \n",
       "1       title    1    image_0.jpg  \n",
       "2       title    2    image_0.jpg  \n",
       "3       title    3    image_0.jpg  \n",
       "4       title    4    image_0.jpg  \n",
       "...       ...  ...            ...  \n",
       "53787   other    4  image_999.jpg  \n",
       "53788   other    5  image_999.jpg  \n",
       "53789   other    6  image_999.jpg  \n",
       "53790   other    7  image_999.jpg  \n",
       "53791  author    0  image_999.jpg  \n",
       "\n",
       "[53792 rows x 6 columns]"
      ]
     },
     "execution_count": 5,
     "metadata": {},
     "output_type": "execute_result"
    }
   ],
   "source": [
    "train"
   ]
  },
  {
   "cell_type": "code",
   "execution_count": 6,
   "metadata": {
    "id": "lsWoAbQREYC6"
   },
   "outputs": [],
   "source": [
    "# Drop rows with NA label\n",
    "train_NonNA = train.dropna(subset=['text', 'label']).reset_index(drop=True)\n",
    "dev_NonNA = dev.dropna(subset=['text', 'label']).reset_index(drop=True)\n",
    "test_NonNA = test.dropna(subset=['text', 'label']).reset_index(drop=True)"
   ]
  },
  {
   "cell_type": "markdown",
   "metadata": {},
   "source": [
    "## Bước 3: Chia tập dữ liệu thành X và y"
   ]
  },
  {
   "cell_type": "code",
   "execution_count": 7,
   "metadata": {
    "id": "jt9Im8RSh3oy"
   },
   "outputs": [],
   "source": [
    "X_train = train_NonNA['text']\n",
    "y_train = train_NonNA['label']\n",
    "X_dev = dev_NonNA['text']\n",
    "y_dev = dev_NonNA['label']\n",
    "X_test = test_NonNA['text']\n",
    "y_test = test_NonNA['label']"
   ]
  },
  {
   "cell_type": "code",
   "execution_count": 8,
   "metadata": {
    "colab": {
     "base_uri": "https://localhost:8080/"
    },
    "executionInfo": {
     "elapsed": 2,
     "status": "ok",
     "timestamp": 1669856409493,
     "user": {
      "displayName": "TÂM NGUYỄN MINH",
      "userId": "18113162964843854047"
     },
     "user_tz": -420
    },
    "id": "_4mAXPWaoV8Y",
    "outputId": "fd39b501-5a87-4460-e20f-786982f30983"
   },
   "outputs": [
    {
     "data": {
      "text/html": [
       "<style>#sk-container-id-1 {color: black;background-color: white;}#sk-container-id-1 pre{padding: 0;}#sk-container-id-1 div.sk-toggleable {background-color: white;}#sk-container-id-1 label.sk-toggleable__label {cursor: pointer;display: block;width: 100%;margin-bottom: 0;padding: 0.3em;box-sizing: border-box;text-align: center;}#sk-container-id-1 label.sk-toggleable__label-arrow:before {content: \"▸\";float: left;margin-right: 0.25em;color: #696969;}#sk-container-id-1 label.sk-toggleable__label-arrow:hover:before {color: black;}#sk-container-id-1 div.sk-estimator:hover label.sk-toggleable__label-arrow:before {color: black;}#sk-container-id-1 div.sk-toggleable__content {max-height: 0;max-width: 0;overflow: hidden;text-align: left;background-color: #f0f8ff;}#sk-container-id-1 div.sk-toggleable__content pre {margin: 0.2em;color: black;border-radius: 0.25em;background-color: #f0f8ff;}#sk-container-id-1 input.sk-toggleable__control:checked~div.sk-toggleable__content {max-height: 200px;max-width: 100%;overflow: auto;}#sk-container-id-1 input.sk-toggleable__control:checked~label.sk-toggleable__label-arrow:before {content: \"▾\";}#sk-container-id-1 div.sk-estimator input.sk-toggleable__control:checked~label.sk-toggleable__label {background-color: #d4ebff;}#sk-container-id-1 div.sk-label input.sk-toggleable__control:checked~label.sk-toggleable__label {background-color: #d4ebff;}#sk-container-id-1 input.sk-hidden--visually {border: 0;clip: rect(1px 1px 1px 1px);clip: rect(1px, 1px, 1px, 1px);height: 1px;margin: -1px;overflow: hidden;padding: 0;position: absolute;width: 1px;}#sk-container-id-1 div.sk-estimator {font-family: monospace;background-color: #f0f8ff;border: 1px dotted black;border-radius: 0.25em;box-sizing: border-box;margin-bottom: 0.5em;}#sk-container-id-1 div.sk-estimator:hover {background-color: #d4ebff;}#sk-container-id-1 div.sk-parallel-item::after {content: \"\";width: 100%;border-bottom: 1px solid gray;flex-grow: 1;}#sk-container-id-1 div.sk-label:hover label.sk-toggleable__label {background-color: #d4ebff;}#sk-container-id-1 div.sk-serial::before {content: \"\";position: absolute;border-left: 1px solid gray;box-sizing: border-box;top: 0;bottom: 0;left: 50%;z-index: 0;}#sk-container-id-1 div.sk-serial {display: flex;flex-direction: column;align-items: center;background-color: white;padding-right: 0.2em;padding-left: 0.2em;position: relative;}#sk-container-id-1 div.sk-item {position: relative;z-index: 1;}#sk-container-id-1 div.sk-parallel {display: flex;align-items: stretch;justify-content: center;background-color: white;position: relative;}#sk-container-id-1 div.sk-item::before, #sk-container-id-1 div.sk-parallel-item::before {content: \"\";position: absolute;border-left: 1px solid gray;box-sizing: border-box;top: 0;bottom: 0;left: 50%;z-index: -1;}#sk-container-id-1 div.sk-parallel-item {display: flex;flex-direction: column;z-index: 1;position: relative;background-color: white;}#sk-container-id-1 div.sk-parallel-item:first-child::after {align-self: flex-end;width: 50%;}#sk-container-id-1 div.sk-parallel-item:last-child::after {align-self: flex-start;width: 50%;}#sk-container-id-1 div.sk-parallel-item:only-child::after {width: 0;}#sk-container-id-1 div.sk-dashed-wrapped {border: 1px dashed gray;margin: 0 0.4em 0.5em 0.4em;box-sizing: border-box;padding-bottom: 0.4em;background-color: white;}#sk-container-id-1 div.sk-label label {font-family: monospace;font-weight: bold;display: inline-block;line-height: 1.2em;}#sk-container-id-1 div.sk-label-container {text-align: center;}#sk-container-id-1 div.sk-container {/* jupyter's `normalize.less` sets `[hidden] { display: none; }` but bootstrap.min.css set `[hidden] { display: none !important; }` so we also need the `!important` here to be able to override the default hidden behavior on the sphinx rendered scikit-learn.org. See: https://github.com/scikit-learn/scikit-learn/issues/21755 */display: inline-block !important;position: relative;}#sk-container-id-1 div.sk-text-repr-fallback {display: none;}</style><div id=\"sk-container-id-1\" class=\"sk-top-container\"><div class=\"sk-text-repr-fallback\"><pre>LabelEncoder()</pre><b>In a Jupyter environment, please rerun this cell to show the HTML representation or trust the notebook. <br />On GitHub, the HTML representation is unable to render, please try loading this page with nbviewer.org.</b></div><div class=\"sk-container\" hidden><div class=\"sk-item\"><div class=\"sk-estimator sk-toggleable\"><input class=\"sk-toggleable__control sk-hidden--visually\" id=\"sk-estimator-id-1\" type=\"checkbox\" checked><label for=\"sk-estimator-id-1\" class=\"sk-toggleable__label sk-toggleable__label-arrow\">LabelEncoder</label><div class=\"sk-toggleable__content\"><pre>LabelEncoder()</pre></div></div></div></div></div>"
      ],
      "text/plain": [
       "LabelEncoder()"
      ]
     },
     "execution_count": 8,
     "metadata": {},
     "output_type": "execute_result"
    }
   ],
   "source": [
    "le = LabelEncoder()\n",
    "le.fit(y_train)"
   ]
  },
  {
   "cell_type": "code",
   "execution_count": 9,
   "metadata": {
    "id": "JeNaArliWXXn"
   },
   "outputs": [],
   "source": [
    "y_train_encode = le.transform(y_train)\n",
    "y_dev_encode = le.transform(y_dev)\n",
    "y_test_encode = le.transform(y_test)"
   ]
  },
  {
   "cell_type": "code",
   "execution_count": 10,
   "metadata": {
    "colab": {
     "base_uri": "https://localhost:8080/"
    },
    "executionInfo": {
     "elapsed": 2,
     "status": "ok",
     "timestamp": 1669856412331,
     "user": {
      "displayName": "TÂM NGUYỄN MINH",
      "userId": "18113162964843854047"
     },
     "user_tz": -420
    },
    "id": "SyZdRKu_zE1J",
    "outputId": "adffaf99-3ce9-4e3f-b530-768ae5aee0a3"
   },
   "outputs": [
    {
     "data": {
      "text/plain": [
       "['author', 'other', 'publisher', 'title']"
      ]
     },
     "execution_count": 10,
     "metadata": {},
     "output_type": "execute_result"
    }
   ],
   "source": [
    "tags = list(le.classes_)\n",
    "tags"
   ]
  },
  {
   "cell_type": "markdown",
   "metadata": {
    "id": "x13sY6wbhRnn"
   },
   "source": [
    "## Bước 4: Xây dựng mô hình Scikit-Learn"
   ]
  },
  {
   "cell_type": "markdown",
   "metadata": {
    "id": "lBWp1c0-Mmwp"
   },
   "source": [
    "### Tfidf vectorizer"
   ]
  },
  {
   "cell_type": "code",
   "execution_count": 12,
   "metadata": {
    "colab": {
     "base_uri": "https://localhost:8080/"
    },
    "executionInfo": {
     "elapsed": 2,
     "status": "ok",
     "timestamp": 1669856413701,
     "user": {
      "displayName": "TÂM NGUYỄN MINH",
      "userId": "18113162964843854047"
     },
     "user_tz": -420
    },
    "id": "TzidKGrYjZT_",
    "outputId": "88459163-bf68-4d96-c55a-972e6710974c"
   },
   "outputs": [
    {
     "data": {
      "text/html": [
       "<style>#sk-container-id-2 {color: black;background-color: white;}#sk-container-id-2 pre{padding: 0;}#sk-container-id-2 div.sk-toggleable {background-color: white;}#sk-container-id-2 label.sk-toggleable__label {cursor: pointer;display: block;width: 100%;margin-bottom: 0;padding: 0.3em;box-sizing: border-box;text-align: center;}#sk-container-id-2 label.sk-toggleable__label-arrow:before {content: \"▸\";float: left;margin-right: 0.25em;color: #696969;}#sk-container-id-2 label.sk-toggleable__label-arrow:hover:before {color: black;}#sk-container-id-2 div.sk-estimator:hover label.sk-toggleable__label-arrow:before {color: black;}#sk-container-id-2 div.sk-toggleable__content {max-height: 0;max-width: 0;overflow: hidden;text-align: left;background-color: #f0f8ff;}#sk-container-id-2 div.sk-toggleable__content pre {margin: 0.2em;color: black;border-radius: 0.25em;background-color: #f0f8ff;}#sk-container-id-2 input.sk-toggleable__control:checked~div.sk-toggleable__content {max-height: 200px;max-width: 100%;overflow: auto;}#sk-container-id-2 input.sk-toggleable__control:checked~label.sk-toggleable__label-arrow:before {content: \"▾\";}#sk-container-id-2 div.sk-estimator input.sk-toggleable__control:checked~label.sk-toggleable__label {background-color: #d4ebff;}#sk-container-id-2 div.sk-label input.sk-toggleable__control:checked~label.sk-toggleable__label {background-color: #d4ebff;}#sk-container-id-2 input.sk-hidden--visually {border: 0;clip: rect(1px 1px 1px 1px);clip: rect(1px, 1px, 1px, 1px);height: 1px;margin: -1px;overflow: hidden;padding: 0;position: absolute;width: 1px;}#sk-container-id-2 div.sk-estimator {font-family: monospace;background-color: #f0f8ff;border: 1px dotted black;border-radius: 0.25em;box-sizing: border-box;margin-bottom: 0.5em;}#sk-container-id-2 div.sk-estimator:hover {background-color: #d4ebff;}#sk-container-id-2 div.sk-parallel-item::after {content: \"\";width: 100%;border-bottom: 1px solid gray;flex-grow: 1;}#sk-container-id-2 div.sk-label:hover label.sk-toggleable__label {background-color: #d4ebff;}#sk-container-id-2 div.sk-serial::before {content: \"\";position: absolute;border-left: 1px solid gray;box-sizing: border-box;top: 0;bottom: 0;left: 50%;z-index: 0;}#sk-container-id-2 div.sk-serial {display: flex;flex-direction: column;align-items: center;background-color: white;padding-right: 0.2em;padding-left: 0.2em;position: relative;}#sk-container-id-2 div.sk-item {position: relative;z-index: 1;}#sk-container-id-2 div.sk-parallel {display: flex;align-items: stretch;justify-content: center;background-color: white;position: relative;}#sk-container-id-2 div.sk-item::before, #sk-container-id-2 div.sk-parallel-item::before {content: \"\";position: absolute;border-left: 1px solid gray;box-sizing: border-box;top: 0;bottom: 0;left: 50%;z-index: -1;}#sk-container-id-2 div.sk-parallel-item {display: flex;flex-direction: column;z-index: 1;position: relative;background-color: white;}#sk-container-id-2 div.sk-parallel-item:first-child::after {align-self: flex-end;width: 50%;}#sk-container-id-2 div.sk-parallel-item:last-child::after {align-self: flex-start;width: 50%;}#sk-container-id-2 div.sk-parallel-item:only-child::after {width: 0;}#sk-container-id-2 div.sk-dashed-wrapped {border: 1px dashed gray;margin: 0 0.4em 0.5em 0.4em;box-sizing: border-box;padding-bottom: 0.4em;background-color: white;}#sk-container-id-2 div.sk-label label {font-family: monospace;font-weight: bold;display: inline-block;line-height: 1.2em;}#sk-container-id-2 div.sk-label-container {text-align: center;}#sk-container-id-2 div.sk-container {/* jupyter's `normalize.less` sets `[hidden] { display: none; }` but bootstrap.min.css set `[hidden] { display: none !important; }` so we also need the `!important` here to be able to override the default hidden behavior on the sphinx rendered scikit-learn.org. See: https://github.com/scikit-learn/scikit-learn/issues/21755 */display: inline-block !important;position: relative;}#sk-container-id-2 div.sk-text-repr-fallback {display: none;}</style><div id=\"sk-container-id-2\" class=\"sk-top-container\"><div class=\"sk-text-repr-fallback\"><pre>TfidfVectorizer()</pre><b>In a Jupyter environment, please rerun this cell to show the HTML representation or trust the notebook. <br />On GitHub, the HTML representation is unable to render, please try loading this page with nbviewer.org.</b></div><div class=\"sk-container\" hidden><div class=\"sk-item\"><div class=\"sk-estimator sk-toggleable\"><input class=\"sk-toggleable__control sk-hidden--visually\" id=\"sk-estimator-id-2\" type=\"checkbox\" checked><label for=\"sk-estimator-id-2\" class=\"sk-toggleable__label sk-toggleable__label-arrow\">TfidfVectorizer</label><div class=\"sk-toggleable__content\"><pre>TfidfVectorizer()</pre></div></div></div></div></div>"
      ],
      "text/plain": [
       "TfidfVectorizer()"
      ]
     },
     "execution_count": 12,
     "metadata": {},
     "output_type": "execute_result"
    }
   ],
   "source": [
    "tf_transformer = TfidfVectorizer()\n",
    "tf_transformer.fit(X_train)"
   ]
  },
  {
   "cell_type": "code",
   "execution_count": 13,
   "metadata": {
    "id": "ZK7cSxlyW165"
   },
   "outputs": [],
   "source": [
    "X_train_tf = tf_transformer.transform(X_train)\n",
    "X_dev_tf = tf_transformer.transform(X_dev)\n",
    "X_test_tf = tf_transformer.transform(X_test)"
   ]
  },
  {
   "cell_type": "code",
   "execution_count": 14,
   "metadata": {
    "id": "8OQ7hJ2XiZKi"
   },
   "outputs": [],
   "source": [
    "saved_model_path = path + '/saved_models'"
   ]
  },
  {
   "cell_type": "markdown",
   "metadata": {
    "id": "BYZnaMIeRVQQ"
   },
   "source": [
    "### Mô hình Naive-Bayes"
   ]
  },
  {
   "cell_type": "code",
   "execution_count": 14,
   "metadata": {
    "colab": {
     "base_uri": "https://localhost:8080/"
    },
    "executionInfo": {
     "elapsed": 298,
     "status": "ok",
     "timestamp": 1669856418238,
     "user": {
      "displayName": "TÂM NGUYỄN MINH",
      "userId": "18113162964843854047"
     },
     "user_tz": -420
    },
    "id": "tD-NfrYlmwZu",
    "outputId": "5dc24ae6-d94f-4072-e8e0-549f366ea5bb"
   },
   "outputs": [
    {
     "data": {
      "text/html": [
       "<style>#sk-container-id-3 {color: black;background-color: white;}#sk-container-id-3 pre{padding: 0;}#sk-container-id-3 div.sk-toggleable {background-color: white;}#sk-container-id-3 label.sk-toggleable__label {cursor: pointer;display: block;width: 100%;margin-bottom: 0;padding: 0.3em;box-sizing: border-box;text-align: center;}#sk-container-id-3 label.sk-toggleable__label-arrow:before {content: \"▸\";float: left;margin-right: 0.25em;color: #696969;}#sk-container-id-3 label.sk-toggleable__label-arrow:hover:before {color: black;}#sk-container-id-3 div.sk-estimator:hover label.sk-toggleable__label-arrow:before {color: black;}#sk-container-id-3 div.sk-toggleable__content {max-height: 0;max-width: 0;overflow: hidden;text-align: left;background-color: #f0f8ff;}#sk-container-id-3 div.sk-toggleable__content pre {margin: 0.2em;color: black;border-radius: 0.25em;background-color: #f0f8ff;}#sk-container-id-3 input.sk-toggleable__control:checked~div.sk-toggleable__content {max-height: 200px;max-width: 100%;overflow: auto;}#sk-container-id-3 input.sk-toggleable__control:checked~label.sk-toggleable__label-arrow:before {content: \"▾\";}#sk-container-id-3 div.sk-estimator input.sk-toggleable__control:checked~label.sk-toggleable__label {background-color: #d4ebff;}#sk-container-id-3 div.sk-label input.sk-toggleable__control:checked~label.sk-toggleable__label {background-color: #d4ebff;}#sk-container-id-3 input.sk-hidden--visually {border: 0;clip: rect(1px 1px 1px 1px);clip: rect(1px, 1px, 1px, 1px);height: 1px;margin: -1px;overflow: hidden;padding: 0;position: absolute;width: 1px;}#sk-container-id-3 div.sk-estimator {font-family: monospace;background-color: #f0f8ff;border: 1px dotted black;border-radius: 0.25em;box-sizing: border-box;margin-bottom: 0.5em;}#sk-container-id-3 div.sk-estimator:hover {background-color: #d4ebff;}#sk-container-id-3 div.sk-parallel-item::after {content: \"\";width: 100%;border-bottom: 1px solid gray;flex-grow: 1;}#sk-container-id-3 div.sk-label:hover label.sk-toggleable__label {background-color: #d4ebff;}#sk-container-id-3 div.sk-serial::before {content: \"\";position: absolute;border-left: 1px solid gray;box-sizing: border-box;top: 0;bottom: 0;left: 50%;z-index: 0;}#sk-container-id-3 div.sk-serial {display: flex;flex-direction: column;align-items: center;background-color: white;padding-right: 0.2em;padding-left: 0.2em;position: relative;}#sk-container-id-3 div.sk-item {position: relative;z-index: 1;}#sk-container-id-3 div.sk-parallel {display: flex;align-items: stretch;justify-content: center;background-color: white;position: relative;}#sk-container-id-3 div.sk-item::before, #sk-container-id-3 div.sk-parallel-item::before {content: \"\";position: absolute;border-left: 1px solid gray;box-sizing: border-box;top: 0;bottom: 0;left: 50%;z-index: -1;}#sk-container-id-3 div.sk-parallel-item {display: flex;flex-direction: column;z-index: 1;position: relative;background-color: white;}#sk-container-id-3 div.sk-parallel-item:first-child::after {align-self: flex-end;width: 50%;}#sk-container-id-3 div.sk-parallel-item:last-child::after {align-self: flex-start;width: 50%;}#sk-container-id-3 div.sk-parallel-item:only-child::after {width: 0;}#sk-container-id-3 div.sk-dashed-wrapped {border: 1px dashed gray;margin: 0 0.4em 0.5em 0.4em;box-sizing: border-box;padding-bottom: 0.4em;background-color: white;}#sk-container-id-3 div.sk-label label {font-family: monospace;font-weight: bold;display: inline-block;line-height: 1.2em;}#sk-container-id-3 div.sk-label-container {text-align: center;}#sk-container-id-3 div.sk-container {/* jupyter's `normalize.less` sets `[hidden] { display: none; }` but bootstrap.min.css set `[hidden] { display: none !important; }` so we also need the `!important` here to be able to override the default hidden behavior on the sphinx rendered scikit-learn.org. See: https://github.com/scikit-learn/scikit-learn/issues/21755 */display: inline-block !important;position: relative;}#sk-container-id-3 div.sk-text-repr-fallback {display: none;}</style><div id=\"sk-container-id-3\" class=\"sk-top-container\"><div class=\"sk-text-repr-fallback\"><pre>MultinomialNB()</pre><b>In a Jupyter environment, please rerun this cell to show the HTML representation or trust the notebook. <br />On GitHub, the HTML representation is unable to render, please try loading this page with nbviewer.org.</b></div><div class=\"sk-container\" hidden><div class=\"sk-item\"><div class=\"sk-estimator sk-toggleable\"><input class=\"sk-toggleable__control sk-hidden--visually\" id=\"sk-estimator-id-3\" type=\"checkbox\" checked><label for=\"sk-estimator-id-3\" class=\"sk-toggleable__label sk-toggleable__label-arrow\">MultinomialNB</label><div class=\"sk-toggleable__content\"><pre>MultinomialNB()</pre></div></div></div></div></div>"
      ],
      "text/plain": [
       "MultinomialNB()"
      ]
     },
     "execution_count": 14,
     "metadata": {},
     "output_type": "execute_result"
    }
   ],
   "source": [
    "model_nb = MultinomialNB()\n",
    "model_nb.fit(X_train_tf, y_train_encode)"
   ]
  },
  {
   "cell_type": "code",
   "execution_count": 15,
   "metadata": {
    "id": "yvLTcniZpmJv"
   },
   "outputs": [],
   "source": [
    "y_pred_nb = model_nb.predict(X_test_tf)"
   ]
  },
  {
   "cell_type": "code",
   "execution_count": 16,
   "metadata": {
    "colab": {
     "base_uri": "https://localhost:8080/"
    },
    "executionInfo": {
     "elapsed": 3,
     "status": "ok",
     "timestamp": 1669856418920,
     "user": {
      "displayName": "TÂM NGUYỄN MINH",
      "userId": "18113162964843854047"
     },
     "user_tz": -420
    },
    "id": "PLHYECvIptb2",
    "outputId": "cefe8f9d-55fe-4a7c-bda2-c0d346971065"
   },
   "outputs": [
    {
     "name": "stdout",
     "output_type": "stream",
     "text": [
      "82.445466686452\n",
      "83.7007267666198\n"
     ]
    }
   ],
   "source": [
    "print(accuracy_score(y_test_encode, y_pred_nb)*100)\n",
    "print(f1_score(y_test_encode, y_pred_nb, average='macro')*100)"
   ]
  },
  {
   "cell_type": "code",
   "execution_count": 17,
   "metadata": {
    "colab": {
     "base_uri": "https://localhost:8080/"
    },
    "executionInfo": {
     "elapsed": 2,
     "status": "ok",
     "timestamp": 1669856418920,
     "user": {
      "displayName": "TÂM NGUYỄN MINH",
      "userId": "18113162964843854047"
     },
     "user_tz": -420
    },
    "id": "ypYeehufxm7R",
    "outputId": "5ee93d64-107f-43db-8f03-69b77fd1e577"
   },
   "outputs": [
    {
     "name": "stdout",
     "output_type": "stream",
     "text": [
      "              precision    recall  f1-score   support\n",
      "\n",
      "      author       0.89      0.84      0.87      1070\n",
      "       other       0.83      0.63      0.71      1916\n",
      "   publisher       0.88      0.98      0.93       939\n",
      "       title       0.78      0.90      0.84      2814\n",
      "\n",
      "    accuracy                           0.82      6739\n",
      "   macro avg       0.85      0.84      0.84      6739\n",
      "weighted avg       0.83      0.82      0.82      6739\n",
      "\n"
     ]
    }
   ],
   "source": [
    "print(classification_report(y_test_encode, y_pred_nb, target_names=tags))"
   ]
  },
  {
   "cell_type": "markdown",
   "metadata": {
    "id": "Dab3TsVTRf2z"
   },
   "source": [
    "### Logistic Regression"
   ]
  },
  {
   "cell_type": "code",
   "execution_count": 18,
   "metadata": {},
   "outputs": [],
   "source": [
    "log_parameters = {'penalty': ['l1', 'l2', 'elasticnet'], 'C':[1, 10, 100, 1000]}\n",
    "logistic = LogisticRegression(max_iter = 250)"
   ]
  },
  {
   "cell_type": "code",
   "execution_count": null,
   "metadata": {
    "colab": {
     "base_uri": "https://localhost:8080/"
    },
    "executionInfo": {
     "elapsed": 12100,
     "status": "ok",
     "timestamp": 1669774162007,
     "user": {
      "displayName": "TÂM NGUYỄN MINH",
      "userId": "18113162964843854047"
     },
     "user_tz": -420
    },
    "id": "fLmH6fV3RiYC",
    "outputId": "cb82de75-993f-4ef9-f303-b52e4a527cba"
   },
   "outputs": [
    {
     "name": "stderr",
     "output_type": "stream",
     "text": [
      "C:\\Users\\takhu\\anaconda3\\envs\\NLP\\lib\\site-packages\\sklearn\\linear_model\\_logistic.py:444: ConvergenceWarning: lbfgs failed to converge (status=1):\n",
      "STOP: TOTAL NO. of ITERATIONS REACHED LIMIT.\n",
      "\n",
      "Increase the number of iterations (max_iter) or scale the data as shown in:\n",
      "    https://scikit-learn.org/stable/modules/preprocessing.html\n",
      "Please also refer to the documentation for alternative solver options:\n",
      "    https://scikit-learn.org/stable/modules/linear_model.html#logistic-regression\n",
      "  n_iter_i = _check_optimize_result(\n"
     ]
    },
    {
     "data": {
      "text/html": [
       "<style>#sk-container-id-4 {color: black;background-color: white;}#sk-container-id-4 pre{padding: 0;}#sk-container-id-4 div.sk-toggleable {background-color: white;}#sk-container-id-4 label.sk-toggleable__label {cursor: pointer;display: block;width: 100%;margin-bottom: 0;padding: 0.3em;box-sizing: border-box;text-align: center;}#sk-container-id-4 label.sk-toggleable__label-arrow:before {content: \"▸\";float: left;margin-right: 0.25em;color: #696969;}#sk-container-id-4 label.sk-toggleable__label-arrow:hover:before {color: black;}#sk-container-id-4 div.sk-estimator:hover label.sk-toggleable__label-arrow:before {color: black;}#sk-container-id-4 div.sk-toggleable__content {max-height: 0;max-width: 0;overflow: hidden;text-align: left;background-color: #f0f8ff;}#sk-container-id-4 div.sk-toggleable__content pre {margin: 0.2em;color: black;border-radius: 0.25em;background-color: #f0f8ff;}#sk-container-id-4 input.sk-toggleable__control:checked~div.sk-toggleable__content {max-height: 200px;max-width: 100%;overflow: auto;}#sk-container-id-4 input.sk-toggleable__control:checked~label.sk-toggleable__label-arrow:before {content: \"▾\";}#sk-container-id-4 div.sk-estimator input.sk-toggleable__control:checked~label.sk-toggleable__label {background-color: #d4ebff;}#sk-container-id-4 div.sk-label input.sk-toggleable__control:checked~label.sk-toggleable__label {background-color: #d4ebff;}#sk-container-id-4 input.sk-hidden--visually {border: 0;clip: rect(1px 1px 1px 1px);clip: rect(1px, 1px, 1px, 1px);height: 1px;margin: -1px;overflow: hidden;padding: 0;position: absolute;width: 1px;}#sk-container-id-4 div.sk-estimator {font-family: monospace;background-color: #f0f8ff;border: 1px dotted black;border-radius: 0.25em;box-sizing: border-box;margin-bottom: 0.5em;}#sk-container-id-4 div.sk-estimator:hover {background-color: #d4ebff;}#sk-container-id-4 div.sk-parallel-item::after {content: \"\";width: 100%;border-bottom: 1px solid gray;flex-grow: 1;}#sk-container-id-4 div.sk-label:hover label.sk-toggleable__label {background-color: #d4ebff;}#sk-container-id-4 div.sk-serial::before {content: \"\";position: absolute;border-left: 1px solid gray;box-sizing: border-box;top: 0;bottom: 0;left: 50%;z-index: 0;}#sk-container-id-4 div.sk-serial {display: flex;flex-direction: column;align-items: center;background-color: white;padding-right: 0.2em;padding-left: 0.2em;position: relative;}#sk-container-id-4 div.sk-item {position: relative;z-index: 1;}#sk-container-id-4 div.sk-parallel {display: flex;align-items: stretch;justify-content: center;background-color: white;position: relative;}#sk-container-id-4 div.sk-item::before, #sk-container-id-4 div.sk-parallel-item::before {content: \"\";position: absolute;border-left: 1px solid gray;box-sizing: border-box;top: 0;bottom: 0;left: 50%;z-index: -1;}#sk-container-id-4 div.sk-parallel-item {display: flex;flex-direction: column;z-index: 1;position: relative;background-color: white;}#sk-container-id-4 div.sk-parallel-item:first-child::after {align-self: flex-end;width: 50%;}#sk-container-id-4 div.sk-parallel-item:last-child::after {align-self: flex-start;width: 50%;}#sk-container-id-4 div.sk-parallel-item:only-child::after {width: 0;}#sk-container-id-4 div.sk-dashed-wrapped {border: 1px dashed gray;margin: 0 0.4em 0.5em 0.4em;box-sizing: border-box;padding-bottom: 0.4em;background-color: white;}#sk-container-id-4 div.sk-label label {font-family: monospace;font-weight: bold;display: inline-block;line-height: 1.2em;}#sk-container-id-4 div.sk-label-container {text-align: center;}#sk-container-id-4 div.sk-container {/* jupyter's `normalize.less` sets `[hidden] { display: none; }` but bootstrap.min.css set `[hidden] { display: none !important; }` so we also need the `!important` here to be able to override the default hidden behavior on the sphinx rendered scikit-learn.org. See: https://github.com/scikit-learn/scikit-learn/issues/21755 */display: inline-block !important;position: relative;}#sk-container-id-4 div.sk-text-repr-fallback {display: none;}</style><div id=\"sk-container-id-4\" class=\"sk-top-container\"><div class=\"sk-text-repr-fallback\"><pre>GridSearchCV(cv=10, estimator=LogisticRegression(max_iter=250),\n",
       "             param_grid={&#x27;C&#x27;: [1, 10, 100, 1000],\n",
       "                         &#x27;penalty&#x27;: [&#x27;l1&#x27;, &#x27;l2&#x27;, &#x27;elasticnet&#x27;]},\n",
       "             scoring=&#x27;f1_macro&#x27;)</pre><b>In a Jupyter environment, please rerun this cell to show the HTML representation or trust the notebook. <br />On GitHub, the HTML representation is unable to render, please try loading this page with nbviewer.org.</b></div><div class=\"sk-container\" hidden><div class=\"sk-item sk-dashed-wrapped\"><div class=\"sk-label-container\"><div class=\"sk-label sk-toggleable\"><input class=\"sk-toggleable__control sk-hidden--visually\" id=\"sk-estimator-id-4\" type=\"checkbox\" ><label for=\"sk-estimator-id-4\" class=\"sk-toggleable__label sk-toggleable__label-arrow\">GridSearchCV</label><div class=\"sk-toggleable__content\"><pre>GridSearchCV(cv=10, estimator=LogisticRegression(max_iter=250),\n",
       "             param_grid={&#x27;C&#x27;: [1, 10, 100, 1000],\n",
       "                         &#x27;penalty&#x27;: [&#x27;l1&#x27;, &#x27;l2&#x27;, &#x27;elasticnet&#x27;]},\n",
       "             scoring=&#x27;f1_macro&#x27;)</pre></div></div></div><div class=\"sk-parallel\"><div class=\"sk-parallel-item\"><div class=\"sk-item\"><div class=\"sk-label-container\"><div class=\"sk-label sk-toggleable\"><input class=\"sk-toggleable__control sk-hidden--visually\" id=\"sk-estimator-id-5\" type=\"checkbox\" ><label for=\"sk-estimator-id-5\" class=\"sk-toggleable__label sk-toggleable__label-arrow\">estimator: LogisticRegression</label><div class=\"sk-toggleable__content\"><pre>LogisticRegression(max_iter=250)</pre></div></div></div><div class=\"sk-serial\"><div class=\"sk-item\"><div class=\"sk-estimator sk-toggleable\"><input class=\"sk-toggleable__control sk-hidden--visually\" id=\"sk-estimator-id-6\" type=\"checkbox\" ><label for=\"sk-estimator-id-6\" class=\"sk-toggleable__label sk-toggleable__label-arrow\">LogisticRegression</label><div class=\"sk-toggleable__content\"><pre>LogisticRegression(max_iter=250)</pre></div></div></div></div></div></div></div></div></div></div>"
      ],
      "text/plain": [
       "GridSearchCV(cv=10, estimator=LogisticRegression(max_iter=250),\n",
       "             param_grid={'C': [1, 10, 100, 1000],\n",
       "                         'penalty': ['l1', 'l2', 'elasticnet']},\n",
       "             scoring='f1_macro')"
      ]
     },
     "execution_count": 19,
     "metadata": {},
     "output_type": "execute_result"
    }
   ],
   "source": [
    "model_log = GridSearchCV(logistic, log_parameters, scoring = 'f1_macro', cv = 10)\n",
    "model_log.fit(X_train_tf, y_train_encode)"
   ]
  },
  {
   "cell_type": "code",
   "execution_count": 20,
   "metadata": {},
   "outputs": [
    {
     "data": {
      "text/plain": [
       "{'C': 10, 'penalty': 'l2'}"
      ]
     },
     "execution_count": 20,
     "metadata": {},
     "output_type": "execute_result"
    }
   ],
   "source": [
    "model_log.best_params_"
   ]
  },
  {
   "cell_type": "code",
   "execution_count": 21,
   "metadata": {
    "id": "k3fNE7wdRiYC"
   },
   "outputs": [],
   "source": [
    "y_pred_log = model_log.predict(X_test_tf)"
   ]
  },
  {
   "cell_type": "code",
   "execution_count": 22,
   "metadata": {
    "colab": {
     "base_uri": "https://localhost:8080/"
    },
    "executionInfo": {
     "elapsed": 683,
     "status": "ok",
     "timestamp": 1669774199688,
     "user": {
      "displayName": "TÂM NGUYỄN MINH",
      "userId": "18113162964843854047"
     },
     "user_tz": -420
    },
    "id": "3ZUMAPlWRiYC",
    "outputId": "a31669eb-0e65-471e-93d1-59b240467a3b"
   },
   "outputs": [
    {
     "name": "stdout",
     "output_type": "stream",
     "text": [
      "88.23267547113815\n",
      "89.65022465741939\n"
     ]
    }
   ],
   "source": [
    "print(accuracy_score(y_test_encode, y_pred_log)*100)\n",
    "print(f1_score(y_test_encode, y_pred_log, average='macro')*100)"
   ]
  },
  {
   "cell_type": "code",
   "execution_count": 23,
   "metadata": {
    "colab": {
     "base_uri": "https://localhost:8080/"
    },
    "executionInfo": {
     "elapsed": 2,
     "status": "ok",
     "timestamp": 1669774203724,
     "user": {
      "displayName": "TÂM NGUYỄN MINH",
      "userId": "18113162964843854047"
     },
     "user_tz": -420
    },
    "id": "JL_7WsCiRiYC",
    "outputId": "84cd7820-4413-4d2c-f294-692701b54658"
   },
   "outputs": [
    {
     "name": "stdout",
     "output_type": "stream",
     "text": [
      "              precision    recall  f1-score   support\n",
      "\n",
      "      author       0.93      0.89      0.91      1070\n",
      "       other       0.87      0.77      0.82      1916\n",
      "   publisher       0.97      0.98      0.98       939\n",
      "       title       0.85      0.92      0.88      2814\n",
      "\n",
      "    accuracy                           0.88      6739\n",
      "   macro avg       0.90      0.89      0.90      6739\n",
      "weighted avg       0.88      0.88      0.88      6739\n",
      "\n"
     ]
    }
   ],
   "source": [
    "print(classification_report(y_test_encode, y_pred_log, target_names=tags))"
   ]
  },
  {
   "cell_type": "markdown",
   "metadata": {
    "id": "712A8QmWSiT0"
   },
   "source": [
    "### SVM"
   ]
  },
  {
   "cell_type": "code",
   "execution_count": 31,
   "metadata": {
    "colab": {
     "base_uri": "https://localhost:8080/"
    },
    "executionInfo": {
     "elapsed": 175710,
     "status": "ok",
     "timestamp": 1669774392263,
     "user": {
      "displayName": "TÂM NGUYỄN MINH",
      "userId": "18113162964843854047"
     },
     "user_tz": -420
    },
    "id": "0JM_XEKjSkWf",
    "outputId": "f53ae336-baea-4cb7-b5e6-6ce82fbebe90",
    "scrolled": true
   },
   "outputs": [
    {
     "data": {
      "text/html": [
       "<style>#sk-container-id-6 {color: black;background-color: white;}#sk-container-id-6 pre{padding: 0;}#sk-container-id-6 div.sk-toggleable {background-color: white;}#sk-container-id-6 label.sk-toggleable__label {cursor: pointer;display: block;width: 100%;margin-bottom: 0;padding: 0.3em;box-sizing: border-box;text-align: center;}#sk-container-id-6 label.sk-toggleable__label-arrow:before {content: \"▸\";float: left;margin-right: 0.25em;color: #696969;}#sk-container-id-6 label.sk-toggleable__label-arrow:hover:before {color: black;}#sk-container-id-6 div.sk-estimator:hover label.sk-toggleable__label-arrow:before {color: black;}#sk-container-id-6 div.sk-toggleable__content {max-height: 0;max-width: 0;overflow: hidden;text-align: left;background-color: #f0f8ff;}#sk-container-id-6 div.sk-toggleable__content pre {margin: 0.2em;color: black;border-radius: 0.25em;background-color: #f0f8ff;}#sk-container-id-6 input.sk-toggleable__control:checked~div.sk-toggleable__content {max-height: 200px;max-width: 100%;overflow: auto;}#sk-container-id-6 input.sk-toggleable__control:checked~label.sk-toggleable__label-arrow:before {content: \"▾\";}#sk-container-id-6 div.sk-estimator input.sk-toggleable__control:checked~label.sk-toggleable__label {background-color: #d4ebff;}#sk-container-id-6 div.sk-label input.sk-toggleable__control:checked~label.sk-toggleable__label {background-color: #d4ebff;}#sk-container-id-6 input.sk-hidden--visually {border: 0;clip: rect(1px 1px 1px 1px);clip: rect(1px, 1px, 1px, 1px);height: 1px;margin: -1px;overflow: hidden;padding: 0;position: absolute;width: 1px;}#sk-container-id-6 div.sk-estimator {font-family: monospace;background-color: #f0f8ff;border: 1px dotted black;border-radius: 0.25em;box-sizing: border-box;margin-bottom: 0.5em;}#sk-container-id-6 div.sk-estimator:hover {background-color: #d4ebff;}#sk-container-id-6 div.sk-parallel-item::after {content: \"\";width: 100%;border-bottom: 1px solid gray;flex-grow: 1;}#sk-container-id-6 div.sk-label:hover label.sk-toggleable__label {background-color: #d4ebff;}#sk-container-id-6 div.sk-serial::before {content: \"\";position: absolute;border-left: 1px solid gray;box-sizing: border-box;top: 0;bottom: 0;left: 50%;z-index: 0;}#sk-container-id-6 div.sk-serial {display: flex;flex-direction: column;align-items: center;background-color: white;padding-right: 0.2em;padding-left: 0.2em;position: relative;}#sk-container-id-6 div.sk-item {position: relative;z-index: 1;}#sk-container-id-6 div.sk-parallel {display: flex;align-items: stretch;justify-content: center;background-color: white;position: relative;}#sk-container-id-6 div.sk-item::before, #sk-container-id-6 div.sk-parallel-item::before {content: \"\";position: absolute;border-left: 1px solid gray;box-sizing: border-box;top: 0;bottom: 0;left: 50%;z-index: -1;}#sk-container-id-6 div.sk-parallel-item {display: flex;flex-direction: column;z-index: 1;position: relative;background-color: white;}#sk-container-id-6 div.sk-parallel-item:first-child::after {align-self: flex-end;width: 50%;}#sk-container-id-6 div.sk-parallel-item:last-child::after {align-self: flex-start;width: 50%;}#sk-container-id-6 div.sk-parallel-item:only-child::after {width: 0;}#sk-container-id-6 div.sk-dashed-wrapped {border: 1px dashed gray;margin: 0 0.4em 0.5em 0.4em;box-sizing: border-box;padding-bottom: 0.4em;background-color: white;}#sk-container-id-6 div.sk-label label {font-family: monospace;font-weight: bold;display: inline-block;line-height: 1.2em;}#sk-container-id-6 div.sk-label-container {text-align: center;}#sk-container-id-6 div.sk-container {/* jupyter's `normalize.less` sets `[hidden] { display: none; }` but bootstrap.min.css set `[hidden] { display: none !important; }` so we also need the `!important` here to be able to override the default hidden behavior on the sphinx rendered scikit-learn.org. See: https://github.com/scikit-learn/scikit-learn/issues/21755 */display: inline-block !important;position: relative;}#sk-container-id-6 div.sk-text-repr-fallback {display: none;}</style><div id=\"sk-container-id-6\" class=\"sk-top-container\"><div class=\"sk-text-repr-fallback\"><pre>SVC(C=10)</pre><b>In a Jupyter environment, please rerun this cell to show the HTML representation or trust the notebook. <br />On GitHub, the HTML representation is unable to render, please try loading this page with nbviewer.org.</b></div><div class=\"sk-container\" hidden><div class=\"sk-item\"><div class=\"sk-estimator sk-toggleable\"><input class=\"sk-toggleable__control sk-hidden--visually\" id=\"sk-estimator-id-10\" type=\"checkbox\" checked><label for=\"sk-estimator-id-10\" class=\"sk-toggleable__label sk-toggleable__label-arrow\">SVC</label><div class=\"sk-toggleable__content\"><pre>SVC(C=10)</pre></div></div></div></div></div>"
      ],
      "text/plain": [
       "SVC(C=10)"
      ]
     },
     "execution_count": 31,
     "metadata": {},
     "output_type": "execute_result"
    }
   ],
   "source": [
    "model_svm = svm.SVC(kernel='rbf', gamma='scale', C=10)\n",
    "model_svm.fit(X_train_tf, y_train_encode)"
   ]
  },
  {
   "cell_type": "code",
   "execution_count": 32,
   "metadata": {
    "id": "eWrmR2dXSkWg"
   },
   "outputs": [],
   "source": [
    "y_pred_svm = model_svm.predict(X_test_tf)"
   ]
  },
  {
   "cell_type": "code",
   "execution_count": 33,
   "metadata": {
    "colab": {
     "base_uri": "https://localhost:8080/"
    },
    "executionInfo": {
     "elapsed": 323,
     "status": "ok",
     "timestamp": 1669856445803,
     "user": {
      "displayName": "TÂM NGUYỄN MINH",
      "userId": "18113162964843854047"
     },
     "user_tz": -420
    },
    "id": "5ONs41CiSkWg",
    "outputId": "e5eaa2bb-ac60-4869-c2c7-0db54036e42a"
   },
   "outputs": [
    {
     "name": "stdout",
     "output_type": "stream",
     "text": [
      "91.97210268585843\n",
      "92.9242391283607\n"
     ]
    }
   ],
   "source": [
    "print(accuracy_score(y_test_encode, y_pred_svm)*100)\n",
    "print(f1_score(y_test_encode, y_pred_svm, average='macro')*100)"
   ]
  },
  {
   "cell_type": "code",
   "execution_count": 34,
   "metadata": {
    "colab": {
     "base_uri": "https://localhost:8080/"
    },
    "executionInfo": {
     "elapsed": 2,
     "status": "ok",
     "timestamp": 1669856448112,
     "user": {
      "displayName": "TÂM NGUYỄN MINH",
      "userId": "18113162964843854047"
     },
     "user_tz": -420
    },
    "id": "foT9iHX6SkWg",
    "outputId": "d7a38aff-f0bd-4946-a918-f52610521db3",
    "scrolled": true
   },
   "outputs": [
    {
     "name": "stdout",
     "output_type": "stream",
     "text": [
      "              precision    recall  f1-score   support\n",
      "\n",
      "      author       0.96      0.90      0.93      1070\n",
      "       other       0.92      0.84      0.88      1916\n",
      "   publisher       0.98      0.99      0.99       939\n",
      "       title       0.89      0.95      0.92      2814\n",
      "\n",
      "    accuracy                           0.92      6739\n",
      "   macro avg       0.94      0.92      0.93      6739\n",
      "weighted avg       0.92      0.92      0.92      6739\n",
      "\n"
     ]
    }
   ],
   "source": [
    "print(classification_report(y_test_encode, y_pred_svm, target_names=tags))"
   ]
  },
  {
   "cell_type": "markdown",
   "metadata": {},
   "source": [
    "### Save models"
   ]
  },
  {
   "cell_type": "code",
   "execution_count": 35,
   "metadata": {
    "id": "ykLtoqVaimll"
   },
   "outputs": [],
   "source": [
    "#Save naive bayes model\n",
    "filename_nb = saved_model_path + '/multinb_model.sav'\n",
    "pickle.dump(model_nb, open(filename_nb, 'wb'))"
   ]
  },
  {
   "cell_type": "code",
   "execution_count": 36,
   "metadata": {
    "id": "gAMwneiEjKRt"
   },
   "outputs": [],
   "source": [
    "#Save logistic regression model\n",
    "filename_log = saved_model_path + '/logis_model.sav'\n",
    "pickle.dump(model_log, open(filename_log, 'wb'))"
   ]
  },
  {
   "cell_type": "code",
   "execution_count": 37,
   "metadata": {
    "id": "SwsLytyEjPm2"
   },
   "outputs": [],
   "source": [
    "#Save svm model\n",
    "filename_svm = saved_model_path + '/SVM_model.sav'\n",
    "pickle.dump(model_svm, open(filename_svm, 'wb'))"
   ]
  },
  {
   "cell_type": "markdown",
   "metadata": {},
   "source": [
    "## 5 Tạo pipeline cho mô hình SVM"
   ]
  },
  {
   "cell_type": "code",
   "execution_count": 38,
   "metadata": {
    "colab": {
     "base_uri": "https://localhost:8080/"
    },
    "executionInfo": {
     "elapsed": 175710,
     "status": "ok",
     "timestamp": 1669774392263,
     "user": {
      "displayName": "TÂM NGUYỄN MINH",
      "userId": "18113162964843854047"
     },
     "user_tz": -420
    },
    "id": "0JM_XEKjSkWf",
    "outputId": "f53ae336-baea-4cb7-b5e6-6ce82fbebe90"
   },
   "outputs": [
    {
     "data": {
      "text/html": [
       "<style>#sk-container-id-7 {color: black;background-color: white;}#sk-container-id-7 pre{padding: 0;}#sk-container-id-7 div.sk-toggleable {background-color: white;}#sk-container-id-7 label.sk-toggleable__label {cursor: pointer;display: block;width: 100%;margin-bottom: 0;padding: 0.3em;box-sizing: border-box;text-align: center;}#sk-container-id-7 label.sk-toggleable__label-arrow:before {content: \"▸\";float: left;margin-right: 0.25em;color: #696969;}#sk-container-id-7 label.sk-toggleable__label-arrow:hover:before {color: black;}#sk-container-id-7 div.sk-estimator:hover label.sk-toggleable__label-arrow:before {color: black;}#sk-container-id-7 div.sk-toggleable__content {max-height: 0;max-width: 0;overflow: hidden;text-align: left;background-color: #f0f8ff;}#sk-container-id-7 div.sk-toggleable__content pre {margin: 0.2em;color: black;border-radius: 0.25em;background-color: #f0f8ff;}#sk-container-id-7 input.sk-toggleable__control:checked~div.sk-toggleable__content {max-height: 200px;max-width: 100%;overflow: auto;}#sk-container-id-7 input.sk-toggleable__control:checked~label.sk-toggleable__label-arrow:before {content: \"▾\";}#sk-container-id-7 div.sk-estimator input.sk-toggleable__control:checked~label.sk-toggleable__label {background-color: #d4ebff;}#sk-container-id-7 div.sk-label input.sk-toggleable__control:checked~label.sk-toggleable__label {background-color: #d4ebff;}#sk-container-id-7 input.sk-hidden--visually {border: 0;clip: rect(1px 1px 1px 1px);clip: rect(1px, 1px, 1px, 1px);height: 1px;margin: -1px;overflow: hidden;padding: 0;position: absolute;width: 1px;}#sk-container-id-7 div.sk-estimator {font-family: monospace;background-color: #f0f8ff;border: 1px dotted black;border-radius: 0.25em;box-sizing: border-box;margin-bottom: 0.5em;}#sk-container-id-7 div.sk-estimator:hover {background-color: #d4ebff;}#sk-container-id-7 div.sk-parallel-item::after {content: \"\";width: 100%;border-bottom: 1px solid gray;flex-grow: 1;}#sk-container-id-7 div.sk-label:hover label.sk-toggleable__label {background-color: #d4ebff;}#sk-container-id-7 div.sk-serial::before {content: \"\";position: absolute;border-left: 1px solid gray;box-sizing: border-box;top: 0;bottom: 0;left: 50%;z-index: 0;}#sk-container-id-7 div.sk-serial {display: flex;flex-direction: column;align-items: center;background-color: white;padding-right: 0.2em;padding-left: 0.2em;position: relative;}#sk-container-id-7 div.sk-item {position: relative;z-index: 1;}#sk-container-id-7 div.sk-parallel {display: flex;align-items: stretch;justify-content: center;background-color: white;position: relative;}#sk-container-id-7 div.sk-item::before, #sk-container-id-7 div.sk-parallel-item::before {content: \"\";position: absolute;border-left: 1px solid gray;box-sizing: border-box;top: 0;bottom: 0;left: 50%;z-index: -1;}#sk-container-id-7 div.sk-parallel-item {display: flex;flex-direction: column;z-index: 1;position: relative;background-color: white;}#sk-container-id-7 div.sk-parallel-item:first-child::after {align-self: flex-end;width: 50%;}#sk-container-id-7 div.sk-parallel-item:last-child::after {align-self: flex-start;width: 50%;}#sk-container-id-7 div.sk-parallel-item:only-child::after {width: 0;}#sk-container-id-7 div.sk-dashed-wrapped {border: 1px dashed gray;margin: 0 0.4em 0.5em 0.4em;box-sizing: border-box;padding-bottom: 0.4em;background-color: white;}#sk-container-id-7 div.sk-label label {font-family: monospace;font-weight: bold;display: inline-block;line-height: 1.2em;}#sk-container-id-7 div.sk-label-container {text-align: center;}#sk-container-id-7 div.sk-container {/* jupyter's `normalize.less` sets `[hidden] { display: none; }` but bootstrap.min.css set `[hidden] { display: none !important; }` so we also need the `!important` here to be able to override the default hidden behavior on the sphinx rendered scikit-learn.org. See: https://github.com/scikit-learn/scikit-learn/issues/21755 */display: inline-block !important;position: relative;}#sk-container-id-7 div.sk-text-repr-fallback {display: none;}</style><div id=\"sk-container-id-7\" class=\"sk-top-container\"><div class=\"sk-text-repr-fallback\"><pre>Pipeline(steps=[(&#x27;tfidf&#x27;, TfidfVectorizer()), (&#x27;SVM&#x27;, SVC(C=10))])</pre><b>In a Jupyter environment, please rerun this cell to show the HTML representation or trust the notebook. <br />On GitHub, the HTML representation is unable to render, please try loading this page with nbviewer.org.</b></div><div class=\"sk-container\" hidden><div class=\"sk-item sk-dashed-wrapped\"><div class=\"sk-label-container\"><div class=\"sk-label sk-toggleable\"><input class=\"sk-toggleable__control sk-hidden--visually\" id=\"sk-estimator-id-11\" type=\"checkbox\" ><label for=\"sk-estimator-id-11\" class=\"sk-toggleable__label sk-toggleable__label-arrow\">Pipeline</label><div class=\"sk-toggleable__content\"><pre>Pipeline(steps=[(&#x27;tfidf&#x27;, TfidfVectorizer()), (&#x27;SVM&#x27;, SVC(C=10))])</pre></div></div></div><div class=\"sk-serial\"><div class=\"sk-item\"><div class=\"sk-estimator sk-toggleable\"><input class=\"sk-toggleable__control sk-hidden--visually\" id=\"sk-estimator-id-12\" type=\"checkbox\" ><label for=\"sk-estimator-id-12\" class=\"sk-toggleable__label sk-toggleable__label-arrow\">TfidfVectorizer</label><div class=\"sk-toggleable__content\"><pre>TfidfVectorizer()</pre></div></div></div><div class=\"sk-item\"><div class=\"sk-estimator sk-toggleable\"><input class=\"sk-toggleable__control sk-hidden--visually\" id=\"sk-estimator-id-13\" type=\"checkbox\" ><label for=\"sk-estimator-id-13\" class=\"sk-toggleable__label sk-toggleable__label-arrow\">SVC</label><div class=\"sk-toggleable__content\"><pre>SVC(C=10)</pre></div></div></div></div></div></div></div>"
      ],
      "text/plain": [
       "Pipeline(steps=[('tfidf', TfidfVectorizer()), ('SVM', SVC(C=10))])"
      ]
     },
     "execution_count": 38,
     "metadata": {},
     "output_type": "execute_result"
    }
   ],
   "source": [
    "pipeline_svm = Pipeline([('tfidf', TfidfVectorizer()),\n",
    "                        ('SVM', svm.SVC(kernel='rbf', gamma='scale', C=10))\n",
    "                        ])\n",
    "pipeline_svm.fit(X_train, y_train_encode)"
   ]
  },
  {
   "cell_type": "code",
   "execution_count": 39,
   "metadata": {
    "id": "eWrmR2dXSkWg"
   },
   "outputs": [],
   "source": [
    "y_pred_pipe = pipeline_svm.predict(X_test)"
   ]
  },
  {
   "cell_type": "code",
   "execution_count": 40,
   "metadata": {
    "colab": {
     "base_uri": "https://localhost:8080/"
    },
    "executionInfo": {
     "elapsed": 323,
     "status": "ok",
     "timestamp": 1669856445803,
     "user": {
      "displayName": "TÂM NGUYỄN MINH",
      "userId": "18113162964843854047"
     },
     "user_tz": -420
    },
    "id": "5ONs41CiSkWg",
    "outputId": "e5eaa2bb-ac60-4869-c2c7-0db54036e42a"
   },
   "outputs": [
    {
     "name": "stdout",
     "output_type": "stream",
     "text": [
      "91.97210268585843\n",
      "92.9242391283607\n"
     ]
    }
   ],
   "source": [
    "print(accuracy_score(y_test_encode, y_pred_pipe)*100)\n",
    "print(f1_score(y_test_encode, y_pred_pipe, average='macro')*100)"
   ]
  },
  {
   "cell_type": "code",
   "execution_count": 41,
   "metadata": {
    "colab": {
     "base_uri": "https://localhost:8080/"
    },
    "executionInfo": {
     "elapsed": 2,
     "status": "ok",
     "timestamp": 1669856448112,
     "user": {
      "displayName": "TÂM NGUYỄN MINH",
      "userId": "18113162964843854047"
     },
     "user_tz": -420
    },
    "id": "foT9iHX6SkWg",
    "outputId": "d7a38aff-f0bd-4946-a918-f52610521db3",
    "scrolled": true
   },
   "outputs": [
    {
     "name": "stdout",
     "output_type": "stream",
     "text": [
      "              precision    recall  f1-score   support\n",
      "\n",
      "      author       0.96      0.90      0.93      1070\n",
      "       other       0.92      0.84      0.88      1916\n",
      "   publisher       0.98      0.99      0.99       939\n",
      "       title       0.89      0.95      0.92      2814\n",
      "\n",
      "    accuracy                           0.92      6739\n",
      "   macro avg       0.94      0.92      0.93      6739\n",
      "weighted avg       0.92      0.92      0.92      6739\n",
      "\n"
     ]
    }
   ],
   "source": [
    "print(classification_report(y_test_encode, y_pred_pipe, target_names=tags))"
   ]
  },
  {
   "cell_type": "code",
   "execution_count": 42,
   "metadata": {},
   "outputs": [],
   "source": [
    "#Save pipeline\n",
    "filename_pipe = saved_model_path + '/SVM_pipeline.sav'\n",
    "pickle.dump(pipeline_svm, open(filename_pipe, 'wb'))"
   ]
  },
  {
   "cell_type": "markdown",
   "metadata": {
    "id": "5_B57-E34AbA"
   },
   "source": [
    "## 6 Phân tích lỗi"
   ]
  },
  {
   "cell_type": "code",
   "execution_count": 15,
   "metadata": {},
   "outputs": [],
   "source": [
    "filename_svm = saved_model_path + '/SVM_model.sav'"
   ]
  },
  {
   "cell_type": "code",
   "execution_count": 16,
   "metadata": {},
   "outputs": [],
   "source": [
    "loaded_model_svm = pickle.load(open(filename_svm, 'rb'))"
   ]
  },
  {
   "cell_type": "code",
   "execution_count": 25,
   "metadata": {
    "id": "hsKkMu8zEi8V"
   },
   "outputs": [],
   "source": [
    "y_test_pred = loaded_model_svm.predict(X_test_tf)"
   ]
  },
  {
   "cell_type": "code",
   "execution_count": 18,
   "metadata": {
    "id": "SqV6uqF85W5w"
   },
   "outputs": [],
   "source": [
    "from sklearn.metrics import confusion_matrix\n",
    "cf = confusion_matrix(y_test_encode, y_test_pred)"
   ]
  },
  {
   "cell_type": "code",
   "execution_count": 19,
   "metadata": {
    "colab": {
     "base_uri": "https://localhost:8080/",
     "height": 273
    },
    "executionInfo": {
     "elapsed": 1083,
     "status": "ok",
     "timestamp": 1669856513475,
     "user": {
      "displayName": "TÂM NGUYỄN MINH",
      "userId": "18113162964843854047"
     },
     "user_tz": -420
    },
    "id": "r0mHIkrk5a_t",
    "outputId": "c723865e-3206-4512-dd96-b2e42bc4d56e"
   },
   "outputs": [
    {
     "data": {
      "image/png": "[encoded data removed]",
      "text/plain": [
       "<Figure size 640x480 with 2 Axes>"
      ]
     },
     "metadata": {},
     "output_type": "display_data"
    }
   ],
   "source": [
    "import seaborn as sn\n",
    "import pandas as pd\n",
    "import numpy as np\n",
    "import matplotlib.pyplot as plt\n",
    "df_cm = pd.DataFrame(cf, range(4), range(4))\n",
    "sn.set(font_scale=1.4) \n",
    "sn.heatmap(df_cm, annot=True, annot_kws={\"size\": 16}, fmt='d', \n",
    "           xticklabels=tags, yticklabels=tags) \n",
    "plt.show()"
   ]
  },
  {
   "cell_type": "code",
   "execution_count": 20,
   "metadata": {
    "id": "RJsBoCZGE69g"
   },
   "outputs": [],
   "source": [
    "def failed_examples(data, true, predict, y_true, y_pred):\n",
    "  failed = (y_pred != y_true)\n",
    "  data_failed = data[failed].reset_index(drop=True)\n",
    "  return data_failed[np.logical_and((y_true[failed] == true), (y_pred[failed] == predict))]"
   ]
  },
  {
   "cell_type": "markdown",
   "metadata": {
    "id": "5UDuq20gFmKj"
   },
   "source": [
    "### Check the errors between `title` and `other`"
   ]
  },
  {
   "cell_type": "code",
   "execution_count": 32,
   "metadata": {
    "colab": {
     "base_uri": "https://localhost:8080/",
     "height": 641
    },
    "executionInfo": {
     "elapsed": 313,
     "status": "ok",
     "timestamp": 1669856600285,
     "user": {
      "displayName": "TÂM NGUYỄN MINH",
      "userId": "18113162964843854047"
     },
     "user_tz": -420
    },
    "id": "mxVfG4LO4tHf",
    "outputId": "28d5eff0-c377-42f5-f50b-b0e2c917496c"
   },
   "outputs": [
    {
     "data": {
      "text/html": [
       "<div>\n",
       "<style scoped>\n",
       "    .dataframe tbody tr th:only-of-type {\n",
       "        vertical-align: middle;\n",
       "    }\n",
       "\n",
       "    .dataframe tbody tr th {\n",
       "        vertical-align: top;\n",
       "    }\n",
       "\n",
       "    .dataframe thead th {\n",
       "        text-align: right;\n",
       "    }\n",
       "</style>\n",
       "<table border=\"1\" class=\"dataframe\">\n",
       "  <thead>\n",
       "    <tr style=\"text-align: right;\">\n",
       "      <th></th>\n",
       "      <th>transcription</th>\n",
       "      <th>points</th>\n",
       "      <th>text</th>\n",
       "      <th>label</th>\n",
       "      <th>link</th>\n",
       "      <th>image</th>\n",
       "    </tr>\n",
       "  </thead>\n",
       "  <tbody>\n",
       "    <tr>\n",
       "      <th>6</th>\n",
       "      <td>Step by Step/title/2</td>\n",
       "      <td>[[70, 835], [483, 784], [479, 710], [70, 742]]</td>\n",
       "      <td>Step by Step</td>\n",
       "      <td>title</td>\n",
       "      <td>2</td>\n",
       "      <td>image_1074.jpg</td>\n",
       "    </tr>\n",
       "    <tr>\n",
       "      <th>8</th>\n",
       "      <td>DẠY CON/title/0</td>\n",
       "      <td>[[379, 452], [703, 453], [709, 361], [379, 348]]</td>\n",
       "      <td>DẠY CON</td>\n",
       "      <td>title</td>\n",
       "      <td>0</td>\n",
       "      <td>image_1081.jpg</td>\n",
       "    </tr>\n",
       "    <tr>\n",
       "      <th>13</th>\n",
       "      <td>Tinh/title/3</td>\n",
       "      <td>[[401, 927], [768, 871], [778, 714], [425, 752]]</td>\n",
       "      <td>Tinh</td>\n",
       "      <td>title</td>\n",
       "      <td>3</td>\n",
       "      <td>image_1114.jpg</td>\n",
       "    </tr>\n",
       "    <tr>\n",
       "      <th>17</th>\n",
       "      <td>ỨNG DỤNG/title/0</td>\n",
       "      <td>[[504, 426], [712, 426], [712, 379], [504, 379]]</td>\n",
       "      <td>ỨNG DỤNG</td>\n",
       "      <td>title</td>\n",
       "      <td>0</td>\n",
       "      <td>image_113.jpg</td>\n",
       "    </tr>\n",
       "    <tr>\n",
       "      <th>19</th>\n",
       "      <td>NÃO BỘ/title/0</td>\n",
       "      <td>[[120, 928], [815, 960], [818, 779], [134, 760]]</td>\n",
       "      <td>NÃO BỘ</td>\n",
       "      <td>title</td>\n",
       "      <td>0</td>\n",
       "      <td>image_1280.jpg</td>\n",
       "    </tr>\n",
       "    <tr>\n",
       "      <th>...</th>\n",
       "      <td>...</td>\n",
       "      <td>...</td>\n",
       "      <td>...</td>\n",
       "      <td>...</td>\n",
       "      <td>...</td>\n",
       "      <td>...</td>\n",
       "    </tr>\n",
       "    <tr>\n",
       "      <th>479</th>\n",
       "      <td>KỸ NĂNG SỐNG/title/1</td>\n",
       "      <td>[[438, 1036], [2684, 1084], [2650, 1552], [412...</td>\n",
       "      <td>KỸ NĂNG SỐNG</td>\n",
       "      <td>title</td>\n",
       "      <td>1</td>\n",
       "      <td>image_7177.jpg</td>\n",
       "    </tr>\n",
       "    <tr>\n",
       "      <th>481</th>\n",
       "      <td>ĐỪNG BÁN/title/0</td>\n",
       "      <td>[[259, 333], [670, 345], [670, 476], [258, 466]]</td>\n",
       "      <td>ĐỪNG BÁN</td>\n",
       "      <td>title</td>\n",
       "      <td>0</td>\n",
       "      <td>image_7282.jpg</td>\n",
       "    </tr>\n",
       "    <tr>\n",
       "      <th>496</th>\n",
       "      <td>SAU/title/1</td>\n",
       "      <td>[[412, 645], [560, 619], [569, 667], [421, 694]]</td>\n",
       "      <td>SAU</td>\n",
       "      <td>title</td>\n",
       "      <td>1</td>\n",
       "      <td>image_759.jpg</td>\n",
       "    </tr>\n",
       "    <tr>\n",
       "      <th>515</th>\n",
       "      <td>khi trở thành/title/4</td>\n",
       "      <td>[[216, 387], [342, 376], [347, 411], [213, 427]]</td>\n",
       "      <td>khi trở thành</td>\n",
       "      <td>title</td>\n",
       "      <td>4</td>\n",
       "      <td>image_854.jpg</td>\n",
       "    </tr>\n",
       "    <tr>\n",
       "      <th>517</th>\n",
       "      <td>BA/title/0</td>\n",
       "      <td>[[313, 541], [347, 541], [347, 519], [313, 519]]</td>\n",
       "      <td>BA</td>\n",
       "      <td>title</td>\n",
       "      <td>0</td>\n",
       "      <td>image_87.jpg</td>\n",
       "    </tr>\n",
       "  </tbody>\n",
       "</table>\n",
       "<p>95 rows × 6 columns</p>\n",
       "</div>"
      ],
      "text/plain": [
       "               transcription  \\\n",
       "6       Step by Step/title/2   \n",
       "8            DẠY CON/title/0   \n",
       "13              Tinh/title/3   \n",
       "17          ỨNG DỤNG/title/0   \n",
       "19            NÃO BỘ/title/0   \n",
       "..                       ...   \n",
       "479     KỸ NĂNG SỐNG/title/1   \n",
       "481         ĐỪNG BÁN/title/0   \n",
       "496              SAU/title/1   \n",
       "515  khi trở thành/title/4   \n",
       "517               BA/title/0   \n",
       "\n",
       "                                                points             text  \\\n",
       "6       [[70, 835], [483, 784], [479, 710], [70, 742]]     Step by Step   \n",
       "8     [[379, 452], [703, 453], [709, 361], [379, 348]]          DẠY CON   \n",
       "13    [[401, 927], [768, 871], [778, 714], [425, 752]]             Tinh   \n",
       "17    [[504, 426], [712, 426], [712, 379], [504, 379]]         ỨNG DỤNG   \n",
       "19    [[120, 928], [815, 960], [818, 779], [134, 760]]           NÃO BỘ   \n",
       "..                                                 ...              ...   \n",
       "479  [[438, 1036], [2684, 1084], [2650, 1552], [412...     KỸ NĂNG SỐNG   \n",
       "481   [[259, 333], [670, 345], [670, 476], [258, 466]]         ĐỪNG BÁN   \n",
       "496   [[412, 645], [560, 619], [569, 667], [421, 694]]              SAU   \n",
       "515   [[216, 387], [342, 376], [347, 411], [213, 427]]  khi trở thành   \n",
       "517   [[313, 541], [347, 541], [347, 519], [313, 519]]               BA   \n",
       "\n",
       "     label link           image  \n",
       "6    title    2  image_1074.jpg  \n",
       "8    title    0  image_1081.jpg  \n",
       "13   title    3  image_1114.jpg  \n",
       "17   title    0   image_113.jpg  \n",
       "19   title    0  image_1280.jpg  \n",
       "..     ...  ...             ...  \n",
       "479  title    1  image_7177.jpg  \n",
       "481  title    0  image_7282.jpg  \n",
       "496  title    1   image_759.jpg  \n",
       "515  title    4   image_854.jpg  \n",
       "517  title    0    image_87.jpg  \n",
       "\n",
       "[95 rows x 6 columns]"
      ]
     },
     "execution_count": 32,
     "metadata": {},
     "output_type": "execute_result"
    }
   ],
   "source": [
    "failed_examples(test_NonNA, true=3, predict=1, y_true=y_test_encode, y_pred=y_test_pred)"
   ]
  },
  {
   "cell_type": "code",
   "execution_count": 33,
   "metadata": {
    "colab": {
     "base_uri": "https://localhost:8080/",
     "height": 641
    },
    "executionInfo": {
     "elapsed": 312,
     "status": "ok",
     "timestamp": 1669856636577,
     "user": {
      "displayName": "TÂM NGUYỄN MINH",
      "userId": "18113162964843854047"
     },
     "user_tz": -420
    },
    "id": "2LbvYLcj9KXl",
    "outputId": "dd30af18-862e-4f40-9a8d-11585520eba5"
   },
   "outputs": [
    {
     "data": {
      "text/html": [
       "<div>\n",
       "<style scoped>\n",
       "    .dataframe tbody tr th:only-of-type {\n",
       "        vertical-align: middle;\n",
       "    }\n",
       "\n",
       "    .dataframe tbody tr th {\n",
       "        vertical-align: top;\n",
       "    }\n",
       "\n",
       "    .dataframe thead th {\n",
       "        text-align: right;\n",
       "    }\n",
       "</style>\n",
       "<table border=\"1\" class=\"dataframe\">\n",
       "  <thead>\n",
       "    <tr style=\"text-align: right;\">\n",
       "      <th></th>\n",
       "      <th>transcription</th>\n",
       "      <th>points</th>\n",
       "      <th>text</th>\n",
       "      <th>label</th>\n",
       "      <th>link</th>\n",
       "      <th>image</th>\n",
       "    </tr>\n",
       "  </thead>\n",
       "  <tbody>\n",
       "    <tr>\n",
       "      <th>0</th>\n",
       "      <td>TRẦN HOA dị/other/3</td>\n",
       "      <td>[[771, 746], [933, 748], [932, 720], [769, 714]]</td>\n",
       "      <td>TRẦN HOA dị</td>\n",
       "      <td>other</td>\n",
       "      <td>3</td>\n",
       "      <td>image_1006.jpg</td>\n",
       "    </tr>\n",
       "    <tr>\n",
       "      <th>1</th>\n",
       "      <td>Chữa lành/other/2</td>\n",
       "      <td>[[102, 1170], [187, 1169], [187, 1150], [101, ...</td>\n",
       "      <td>Chữa lành</td>\n",
       "      <td>other</td>\n",
       "      <td>2</td>\n",
       "      <td>image_1048.jpg</td>\n",
       "    </tr>\n",
       "    <tr>\n",
       "      <th>3</th>\n",
       "      <td>10, 11, 12/other/1</td>\n",
       "      <td>[[252, 845], [394, 842], [395, 766], [255, 772]]</td>\n",
       "      <td>10, 11, 12</td>\n",
       "      <td>other</td>\n",
       "      <td>1</td>\n",
       "      <td>image_1066.jpg</td>\n",
       "    </tr>\n",
       "    <tr>\n",
       "      <th>7</th>\n",
       "      <td>Fiel thực hành/other/6</td>\n",
       "      <td>[[99, 588], [193, 590], [194, 576], [99, 572]]</td>\n",
       "      <td>Fiel thực hành</td>\n",
       "      <td>other</td>\n",
       "      <td>6</td>\n",
       "      <td>image_1074.jpg</td>\n",
       "    </tr>\n",
       "    <tr>\n",
       "      <th>9</th>\n",
       "      <td>PHÁT TRIỂN DOANH NGHIỆP THÀNH CÔNG/other/3</td>\n",
       "      <td>[[213, 932], [836, 942], [834, 907], [213, 897]]</td>\n",
       "      <td>PHÁT TRIỂN DOANH NGHIỆP THÀNH CÔNG</td>\n",
       "      <td>other</td>\n",
       "      <td>3</td>\n",
       "      <td>image_1106.jpg</td>\n",
       "    </tr>\n",
       "    <tr>\n",
       "      <th>...</th>\n",
       "      <td>...</td>\n",
       "      <td>...</td>\n",
       "      <td>...</td>\n",
       "      <td>...</td>\n",
       "      <td>...</td>\n",
       "      <td>...</td>\n",
       "    </tr>\n",
       "    <tr>\n",
       "      <th>527</th>\n",
       "      <td>Tự chủ về tài chính/other/5</td>\n",
       "      <td>[[448, 844], [601, 836], [601, 858], [449, 864]]</td>\n",
       "      <td>Tự chủ về tài chính</td>\n",
       "      <td>other</td>\n",
       "      <td>5</td>\n",
       "      <td>image_896.jpg</td>\n",
       "    </tr>\n",
       "    <tr>\n",
       "      <th>534</th>\n",
       "      <td>học sinh giỏi/other/3</td>\n",
       "      <td>[[210, 596], [305, 595], [302, 618], [213, 614]]</td>\n",
       "      <td>học sinh giỏi</td>\n",
       "      <td>other</td>\n",
       "      <td>3</td>\n",
       "      <td>image_915.jpg</td>\n",
       "    </tr>\n",
       "    <tr>\n",
       "      <th>538</th>\n",
       "      <td>THAY ĐỔI/other/1</td>\n",
       "      <td>[[723, 946], [823, 946], [823, 924], [723, 924]]</td>\n",
       "      <td>THAY ĐỔI</td>\n",
       "      <td>other</td>\n",
       "      <td>1</td>\n",
       "      <td>image_972.jpg</td>\n",
       "    </tr>\n",
       "    <tr>\n",
       "      <th>539</th>\n",
       "      <td>CUỘC ĐỜI/other/2</td>\n",
       "      <td>[[722, 975], [825, 975], [825, 950], [722, 950]]</td>\n",
       "      <td>CUỘC ĐỜI</td>\n",
       "      <td>other</td>\n",
       "      <td>2</td>\n",
       "      <td>image_972.jpg</td>\n",
       "    </tr>\n",
       "    <tr>\n",
       "      <th>540</th>\n",
       "      <td>NGƯỜI/other/4</td>\n",
       "      <td>[[739, 1021], [811, 1021], [811, 999], [739, 9...</td>\n",
       "      <td>NGƯỜI</td>\n",
       "      <td>other</td>\n",
       "      <td>4</td>\n",
       "      <td>image_972.jpg</td>\n",
       "    </tr>\n",
       "  </tbody>\n",
       "</table>\n",
       "<p>277 rows × 6 columns</p>\n",
       "</div>"
      ],
      "text/plain": [
       "                                  transcription  \\\n",
       "0                           TRẦN HOA dị/other/3   \n",
       "1                             Chữa lành/other/2   \n",
       "3                            10, 11, 12/other/1   \n",
       "7                        Fiel thực hành/other/6   \n",
       "9    PHÁT TRIỂN DOANH NGHIỆP THÀNH CÔNG/other/3   \n",
       "..                                          ...   \n",
       "527                 Tự chủ về tài chính/other/5   \n",
       "534                       học sinh giỏi/other/3   \n",
       "538                            THAY ĐỔI/other/1   \n",
       "539                            CUỘC ĐỜI/other/2   \n",
       "540                               NGƯỜI/other/4   \n",
       "\n",
       "                                                points  \\\n",
       "0     [[771, 746], [933, 748], [932, 720], [769, 714]]   \n",
       "1    [[102, 1170], [187, 1169], [187, 1150], [101, ...   \n",
       "3     [[252, 845], [394, 842], [395, 766], [255, 772]]   \n",
       "7       [[99, 588], [193, 590], [194, 576], [99, 572]]   \n",
       "9     [[213, 932], [836, 942], [834, 907], [213, 897]]   \n",
       "..                                                 ...   \n",
       "527   [[448, 844], [601, 836], [601, 858], [449, 864]]   \n",
       "534   [[210, 596], [305, 595], [302, 618], [213, 614]]   \n",
       "538   [[723, 946], [823, 946], [823, 924], [723, 924]]   \n",
       "539   [[722, 975], [825, 975], [825, 950], [722, 950]]   \n",
       "540  [[739, 1021], [811, 1021], [811, 999], [739, 9...   \n",
       "\n",
       "                                   text  label link           image  \n",
       "0                           TRẦN HOA dị  other    3  image_1006.jpg  \n",
       "1                             Chữa lành  other    2  image_1048.jpg  \n",
       "3                            10, 11, 12  other    1  image_1066.jpg  \n",
       "7                        Fiel thực hành  other    6  image_1074.jpg  \n",
       "9    PHÁT TRIỂN DOANH NGHIỆP THÀNH CÔNG  other    3  image_1106.jpg  \n",
       "..                                  ...    ...  ...             ...  \n",
       "527                 Tự chủ về tài chính  other    5   image_896.jpg  \n",
       "534                       học sinh giỏi  other    3   image_915.jpg  \n",
       "538                            THAY ĐỔI  other    1   image_972.jpg  \n",
       "539                            CUỘC ĐỜI  other    2   image_972.jpg  \n",
       "540                               NGƯỜI  other    4   image_972.jpg  \n",
       "\n",
       "[277 rows x 6 columns]"
      ]
     },
     "execution_count": 33,
     "metadata": {},
     "output_type": "execute_result"
    }
   ],
   "source": [
    "failed_examples(test_NonNA, true=1, predict=3, y_true=y_test_encode, y_pred=y_test_pred)"
   ]
  },
  {
   "cell_type": "markdown",
   "metadata": {
    "id": "nqb2TlP2G7GT"
   },
   "source": [
    "### Check the errors between `title` and `author`"
   ]
  },
  {
   "cell_type": "code",
   "execution_count": 34,
   "metadata": {
    "colab": {
     "base_uri": "https://localhost:8080/",
     "height": 641
    },
    "executionInfo": {
     "elapsed": 335,
     "status": "ok",
     "timestamp": 1669856655163,
     "user": {
      "displayName": "TÂM NGUYỄN MINH",
      "userId": "18113162964843854047"
     },
     "user_tz": -420
    },
    "id": "x3QZOuc6CVf_",
    "outputId": "d38812f5-ab06-4905-ee71-5c5a5e1b2e63"
   },
   "outputs": [
    {
     "data": {
      "text/html": [
       "<div>\n",
       "<style scoped>\n",
       "    .dataframe tbody tr th:only-of-type {\n",
       "        vertical-align: middle;\n",
       "    }\n",
       "\n",
       "    .dataframe tbody tr th {\n",
       "        vertical-align: top;\n",
       "    }\n",
       "\n",
       "    .dataframe thead th {\n",
       "        text-align: right;\n",
       "    }\n",
       "</style>\n",
       "<table border=\"1\" class=\"dataframe\">\n",
       "  <thead>\n",
       "    <tr style=\"text-align: right;\">\n",
       "      <th></th>\n",
       "      <th>transcription</th>\n",
       "      <th>points</th>\n",
       "      <th>text</th>\n",
       "      <th>label</th>\n",
       "      <th>link</th>\n",
       "      <th>image</th>\n",
       "    </tr>\n",
       "  </thead>\n",
       "  <tbody>\n",
       "    <tr>\n",
       "      <th>4</th>\n",
       "      <td>PHẠM TRỌNG THƯ/author/0</td>\n",
       "      <td>[[271, 444], [386, 443], [384, 461], [270, 462]]</td>\n",
       "      <td>PHẠM TRỌNG THƯ</td>\n",
       "      <td>author</td>\n",
       "      <td>0</td>\n",
       "      <td>image_1066.jpg</td>\n",
       "    </tr>\n",
       "    <tr>\n",
       "      <th>12</th>\n",
       "      <td>Simona Covel/author/0</td>\n",
       "      <td>[[373, 155], [642, 135], [642, 106], [373, 130]]</td>\n",
       "      <td>Simona Covel</td>\n",
       "      <td>author</td>\n",
       "      <td>0</td>\n",
       "      <td>image_1106.jpg</td>\n",
       "    </tr>\n",
       "    <tr>\n",
       "      <th>14</th>\n",
       "      <td>THẦY HỒ ĐỨC THUẬN/author/0</td>\n",
       "      <td>[[384, 329], [583, 317], [581, 287], [383, 298]]</td>\n",
       "      <td>THẦY HỒ ĐỨC THUẬN</td>\n",
       "      <td>author</td>\n",
       "      <td>0</td>\n",
       "      <td>image_1116.jpg</td>\n",
       "    </tr>\n",
       "    <tr>\n",
       "      <th>20</th>\n",
       "      <td>EAGLEMAN/author/1</td>\n",
       "      <td>[[140, 696], [630, 711], [630, 653], [142, 643]]</td>\n",
       "      <td>EAGLEMAN</td>\n",
       "      <td>author</td>\n",
       "      <td>1</td>\n",
       "      <td>image_1280.jpg</td>\n",
       "    </tr>\n",
       "    <tr>\n",
       "      <th>25</th>\n",
       "      <td>Lời: Trần Linh Linh/author/0</td>\n",
       "      <td>[[84, 658], [200, 657], [200, 643], [83, 646]]</td>\n",
       "      <td>Lời: Trần Linh Linh</td>\n",
       "      <td>author</td>\n",
       "      <td>0</td>\n",
       "      <td>image_1308.jpg</td>\n",
       "    </tr>\n",
       "    <tr>\n",
       "      <th>...</th>\n",
       "      <td>...</td>\n",
       "      <td>...</td>\n",
       "      <td>...</td>\n",
       "      <td>...</td>\n",
       "      <td>...</td>\n",
       "      <td>...</td>\n",
       "    </tr>\n",
       "    <tr>\n",
       "      <th>529</th>\n",
       "      <td>Bryce Leung/author/1</td>\n",
       "      <td>[[231, 318], [385, 285], [385, 325], [234, 356]]</td>\n",
       "      <td>Bryce Leung</td>\n",
       "      <td>author</td>\n",
       "      <td>1</td>\n",
       "      <td>image_896.jpg</td>\n",
       "    </tr>\n",
       "    <tr>\n",
       "      <th>532</th>\n",
       "      <td>MINH/author/1</td>\n",
       "      <td>[[418, 737], [512, 740], [515, 760], [418, 762]]</td>\n",
       "      <td>MINH</td>\n",
       "      <td>author</td>\n",
       "      <td>1</td>\n",
       "      <td>image_898.jpg</td>\n",
       "    </tr>\n",
       "    <tr>\n",
       "      <th>533</th>\n",
       "      <td>viết/author/2</td>\n",
       "      <td>[[468, 771], [515, 766], [513, 789], [469, 789]]</td>\n",
       "      <td>viết</td>\n",
       "      <td>author</td>\n",
       "      <td>2</td>\n",
       "      <td>image_898.jpg</td>\n",
       "    </tr>\n",
       "    <tr>\n",
       "      <th>535</th>\n",
       "      <td>TRANG/author/0</td>\n",
       "      <td>[[352, 103], [451, 101], [454, 121], [356, 121]]</td>\n",
       "      <td>TRANG</td>\n",
       "      <td>author</td>\n",
       "      <td>0</td>\n",
       "      <td>image_915.jpg</td>\n",
       "    </tr>\n",
       "    <tr>\n",
       "      <th>536</th>\n",
       "      <td>ANH/author/1</td>\n",
       "      <td>[[379, 121], [433, 122], [433, 141], [374, 139]]</td>\n",
       "      <td>ANH</td>\n",
       "      <td>author</td>\n",
       "      <td>1</td>\n",
       "      <td>image_915.jpg</td>\n",
       "    </tr>\n",
       "  </tbody>\n",
       "</table>\n",
       "<p>69 rows × 6 columns</p>\n",
       "</div>"
      ],
      "text/plain": [
       "                    transcription  \\\n",
       "4         PHẠM TRỌNG THƯ/author/0   \n",
       "12          Simona Covel/author/0   \n",
       "14     THẦY HỒ ĐỨC THUẬN/author/0   \n",
       "20              EAGLEMAN/author/1   \n",
       "25   Lời: Trần Linh Linh/author/0   \n",
       "..                            ...   \n",
       "529          Bryce Leung/author/1   \n",
       "532                 MINH/author/1   \n",
       "533                 viết/author/2   \n",
       "535                TRANG/author/0   \n",
       "536                  ANH/author/1   \n",
       "\n",
       "                                               points                 text  \\\n",
       "4    [[271, 444], [386, 443], [384, 461], [270, 462]]       PHẠM TRỌNG THƯ   \n",
       "12   [[373, 155], [642, 135], [642, 106], [373, 130]]         Simona Covel   \n",
       "14   [[384, 329], [583, 317], [581, 287], [383, 298]]    THẦY HỒ ĐỨC THUẬN   \n",
       "20   [[140, 696], [630, 711], [630, 653], [142, 643]]             EAGLEMAN   \n",
       "25     [[84, 658], [200, 657], [200, 643], [83, 646]]  Lời: Trần Linh Linh   \n",
       "..                                                ...                  ...   \n",
       "529  [[231, 318], [385, 285], [385, 325], [234, 356]]          Bryce Leung   \n",
       "532  [[418, 737], [512, 740], [515, 760], [418, 762]]                 MINH   \n",
       "533  [[468, 771], [515, 766], [513, 789], [469, 789]]                 viết   \n",
       "535  [[352, 103], [451, 101], [454, 121], [356, 121]]                TRANG   \n",
       "536  [[379, 121], [433, 122], [433, 141], [374, 139]]                  ANH   \n",
       "\n",
       "      label link           image  \n",
       "4    author    0  image_1066.jpg  \n",
       "12   author    0  image_1106.jpg  \n",
       "14   author    0  image_1116.jpg  \n",
       "20   author    1  image_1280.jpg  \n",
       "25   author    0  image_1308.jpg  \n",
       "..      ...  ...             ...  \n",
       "529  author    1   image_896.jpg  \n",
       "532  author    1   image_898.jpg  \n",
       "533  author    2   image_898.jpg  \n",
       "535  author    0   image_915.jpg  \n",
       "536  author    1   image_915.jpg  \n",
       "\n",
       "[69 rows x 6 columns]"
      ]
     },
     "execution_count": 34,
     "metadata": {},
     "output_type": "execute_result"
    }
   ],
   "source": [
    "failed_examples(test_NonNA, true=0, predict=3, y_true=y_test_encode, y_pred=y_test_pred)"
   ]
  },
  {
   "cell_type": "code",
   "execution_count": 35,
   "metadata": {
    "colab": {
     "base_uri": "https://localhost:8080/",
     "height": 1000
    },
    "executionInfo": {
     "elapsed": 332,
     "status": "ok",
     "timestamp": 1669856700414,
     "user": {
      "displayName": "TÂM NGUYỄN MINH",
      "userId": "18113162964843854047"
     },
     "user_tz": -420
    },
    "id": "eoEgXB1mCjbr",
    "outputId": "d6b00585-54a4-40d4-ad06-c3d25c9f813b"
   },
   "outputs": [
    {
     "data": {
      "text/html": [
       "<div>\n",
       "<style scoped>\n",
       "    .dataframe tbody tr th:only-of-type {\n",
       "        vertical-align: middle;\n",
       "    }\n",
       "\n",
       "    .dataframe tbody tr th {\n",
       "        vertical-align: top;\n",
       "    }\n",
       "\n",
       "    .dataframe thead th {\n",
       "        text-align: right;\n",
       "    }\n",
       "</style>\n",
       "<table border=\"1\" class=\"dataframe\">\n",
       "  <thead>\n",
       "    <tr style=\"text-align: right;\">\n",
       "      <th></th>\n",
       "      <th>transcription</th>\n",
       "      <th>points</th>\n",
       "      <th>text</th>\n",
       "      <th>label</th>\n",
       "      <th>link</th>\n",
       "      <th>image</th>\n",
       "    </tr>\n",
       "  </thead>\n",
       "  <tbody>\n",
       "    <tr>\n",
       "      <th>70</th>\n",
       "      <td>TRÍ/title/1</td>\n",
       "      <td>[[796, 645], [1042, 713], [1010, 823], [764, 7...</td>\n",
       "      <td>TRÍ</td>\n",
       "      <td>title</td>\n",
       "      <td>1</td>\n",
       "      <td>image_1985.jpg</td>\n",
       "    </tr>\n",
       "    <tr>\n",
       "      <th>71</th>\n",
       "      <td>TRÍ/title/1</td>\n",
       "      <td>[[549, 654], [859, 628], [872, 779], [562, 806]]</td>\n",
       "      <td>TRÍ</td>\n",
       "      <td>title</td>\n",
       "      <td>1</td>\n",
       "      <td>image_1988.jpg</td>\n",
       "    </tr>\n",
       "    <tr>\n",
       "      <th>131</th>\n",
       "      <td>NGUYỄN/title/0</td>\n",
       "      <td>[[659, 976], [2369, 825], [2366, 1236], [671, ...</td>\n",
       "      <td>NGUYỄN</td>\n",
       "      <td>title</td>\n",
       "      <td>0</td>\n",
       "      <td>image_3300.jpg</td>\n",
       "    </tr>\n",
       "    <tr>\n",
       "      <th>133</th>\n",
       "      <td>NGUYỄN/title/0</td>\n",
       "      <td>[[708, 1363], [2220, 1375], [2190, 1720], [687...</td>\n",
       "      <td>NGUYỄN</td>\n",
       "      <td>title</td>\n",
       "      <td>0</td>\n",
       "      <td>image_3301.jpg</td>\n",
       "    </tr>\n",
       "    <tr>\n",
       "      <th>142</th>\n",
       "      <td>dương/title/1</td>\n",
       "      <td>[[1125, 903], [1868, 929], [1794, 1182], [964,...</td>\n",
       "      <td>dương</td>\n",
       "      <td>title</td>\n",
       "      <td>1</td>\n",
       "      <td>image_3440.jpg</td>\n",
       "    </tr>\n",
       "    <tr>\n",
       "      <th>155</th>\n",
       "      <td>Hồng/title/0</td>\n",
       "      <td>[[2026, 1120], [2694, 1452], [2576, 1734], [19...</td>\n",
       "      <td>Hồng</td>\n",
       "      <td>title</td>\n",
       "      <td>0</td>\n",
       "      <td>image_3636.jpg</td>\n",
       "    </tr>\n",
       "    <tr>\n",
       "      <th>157</th>\n",
       "      <td>Hồng/title/0</td>\n",
       "      <td>[[1600, 1273], [2265, 1305], [2300, 1524], [15...</td>\n",
       "      <td>Hồng</td>\n",
       "      <td>title</td>\n",
       "      <td>0</td>\n",
       "      <td>image_3638.jpg</td>\n",
       "    </tr>\n",
       "    <tr>\n",
       "      <th>159</th>\n",
       "      <td>Hồng/title/0</td>\n",
       "      <td>[[2328, 470], [3021, 530], [3036, 838], [2321,...</td>\n",
       "      <td>Hồng</td>\n",
       "      <td>title</td>\n",
       "      <td>0</td>\n",
       "      <td>image_3639.jpg</td>\n",
       "    </tr>\n",
       "    <tr>\n",
       "      <th>177</th>\n",
       "      <td>trí/title/3</td>\n",
       "      <td>[[558, 348], [636, 311], [716, 347], [572, 478]]</td>\n",
       "      <td>trí</td>\n",
       "      <td>title</td>\n",
       "      <td>3</td>\n",
       "      <td>image_4064.jpg</td>\n",
       "    </tr>\n",
       "    <tr>\n",
       "      <th>196</th>\n",
       "      <td>ĐÌNH/title/5</td>\n",
       "      <td>[[450, 855], [838, 817], [846, 973], [446, 978]]</td>\n",
       "      <td>ĐÌNH</td>\n",
       "      <td>title</td>\n",
       "      <td>5</td>\n",
       "      <td>image_4175.jpg</td>\n",
       "    </tr>\n",
       "    <tr>\n",
       "      <th>281</th>\n",
       "      <td>tiểu/title/4</td>\n",
       "      <td>[[376, 611], [439, 619], [450, 589], [392, 581]]</td>\n",
       "      <td>tiểu</td>\n",
       "      <td>title</td>\n",
       "      <td>4</td>\n",
       "      <td>image_5092.jpg</td>\n",
       "    </tr>\n",
       "    <tr>\n",
       "      <th>289</th>\n",
       "      <td>Mai/title/2</td>\n",
       "      <td>[[569, 958], [614, 958], [614, 982], [569, 982]]</td>\n",
       "      <td>Mai</td>\n",
       "      <td>title</td>\n",
       "      <td>2</td>\n",
       "      <td>image_5146.jpg</td>\n",
       "    </tr>\n",
       "    <tr>\n",
       "      <th>290</th>\n",
       "      <td>THIÊN/title/0</td>\n",
       "      <td>[[400, 272], [604, 272], [604, 328], [400, 328]]</td>\n",
       "      <td>THIÊN</td>\n",
       "      <td>title</td>\n",
       "      <td>0</td>\n",
       "      <td>image_5148.jpg</td>\n",
       "    </tr>\n",
       "    <tr>\n",
       "      <th>319</th>\n",
       "      <td>Manager/title/3</td>\n",
       "      <td>[[335, 554], [771, 560], [750, 633], [329, 636]]</td>\n",
       "      <td>Manager</td>\n",
       "      <td>title</td>\n",
       "      <td>3</td>\n",
       "      <td>image_5293.jpg</td>\n",
       "    </tr>\n",
       "    <tr>\n",
       "      <th>412</th>\n",
       "      <td>HOAN/title/1</td>\n",
       "      <td>[[504, 2245], [2133, 2242], [2147, 1720], [511...</td>\n",
       "      <td>HOAN</td>\n",
       "      <td>title</td>\n",
       "      <td>1</td>\n",
       "      <td>image_6045.jpg</td>\n",
       "    </tr>\n",
       "    <tr>\n",
       "      <th>416</th>\n",
       "      <td>Thợ mộc/title/2</td>\n",
       "      <td>[[97, 182], [235, 201], [225, 229], [67, 227]]</td>\n",
       "      <td>Thợ mộc</td>\n",
       "      <td>title</td>\n",
       "      <td>2</td>\n",
       "      <td>image_605.jpg</td>\n",
       "    </tr>\n",
       "    <tr>\n",
       "      <th>418</th>\n",
       "      <td>HOAN/title/1</td>\n",
       "      <td>[[1051, 1680], [1899, 2843], [2280, 2574], [14...</td>\n",
       "      <td>HOAN</td>\n",
       "      <td>title</td>\n",
       "      <td>1</td>\n",
       "      <td>image_6050.jpg</td>\n",
       "    </tr>\n",
       "    <tr>\n",
       "      <th>442</th>\n",
       "      <td>NGUYỄN/title/0</td>\n",
       "      <td>[[777, 889], [2390, 731], [2439, 1222], [800, ...</td>\n",
       "      <td>NGUYỄN</td>\n",
       "      <td>title</td>\n",
       "      <td>0</td>\n",
       "      <td>image_6378.jpg</td>\n",
       "    </tr>\n",
       "    <tr>\n",
       "      <th>444</th>\n",
       "      <td>NGUYỄN/title/0</td>\n",
       "      <td>[[1379, 1158], [2451, 967], [2477, 1219], [140...</td>\n",
       "      <td>NGUYỄN</td>\n",
       "      <td>title</td>\n",
       "      <td>0</td>\n",
       "      <td>image_6386.jpg</td>\n",
       "    </tr>\n",
       "    <tr>\n",
       "      <th>447</th>\n",
       "      <td>KIM/title/2</td>\n",
       "      <td>[[469, 701], [925, 803], [904, 925], [439, 840]]</td>\n",
       "      <td>KIM</td>\n",
       "      <td>title</td>\n",
       "      <td>2</td>\n",
       "      <td>image_674.jpg</td>\n",
       "    </tr>\n",
       "    <tr>\n",
       "      <th>492</th>\n",
       "      <td>DONALD TRUMP/title/0</td>\n",
       "      <td>[[299, 1036], [2842, 1046], [2834, 1436], [334...</td>\n",
       "      <td>DONALD TRUMP</td>\n",
       "      <td>title</td>\n",
       "      <td>0</td>\n",
       "      <td>image_7407.jpg</td>\n",
       "    </tr>\n",
       "    <tr>\n",
       "      <th>505</th>\n",
       "      <td>THIÊN/title/0</td>\n",
       "      <td>[[214, 149], [357, 138], [357, 170], [221, 176]]</td>\n",
       "      <td>THIÊN</td>\n",
       "      <td>title</td>\n",
       "      <td>0</td>\n",
       "      <td>image_836.jpg</td>\n",
       "    </tr>\n",
       "    <tr>\n",
       "      <th>530</th>\n",
       "      <td>THIÊN/title/0</td>\n",
       "      <td>[[284, 367], [526, 369], [517, 428], [292, 426]]</td>\n",
       "      <td>THIÊN</td>\n",
       "      <td>title</td>\n",
       "      <td>0</td>\n",
       "      <td>image_898.jpg</td>\n",
       "    </tr>\n",
       "  </tbody>\n",
       "</table>\n",
       "</div>"
      ],
      "text/plain": [
       "             transcription                                             points  \\\n",
       "70             TRÍ/title/1  [[796, 645], [1042, 713], [1010, 823], [764, 7...   \n",
       "71             TRÍ/title/1   [[549, 654], [859, 628], [872, 779], [562, 806]]   \n",
       "131         NGUYỄN/title/0  [[659, 976], [2369, 825], [2366, 1236], [671, ...   \n",
       "133         NGUYỄN/title/0  [[708, 1363], [2220, 1375], [2190, 1720], [687...   \n",
       "142          dương/title/1  [[1125, 903], [1868, 929], [1794, 1182], [964,...   \n",
       "155           Hồng/title/0  [[2026, 1120], [2694, 1452], [2576, 1734], [19...   \n",
       "157           Hồng/title/0  [[1600, 1273], [2265, 1305], [2300, 1524], [15...   \n",
       "159           Hồng/title/0  [[2328, 470], [3021, 530], [3036, 838], [2321,...   \n",
       "177            trí/title/3   [[558, 348], [636, 311], [716, 347], [572, 478]]   \n",
       "196           ĐÌNH/title/5   [[450, 855], [838, 817], [846, 973], [446, 978]]   \n",
       "281           tiểu/title/4   [[376, 611], [439, 619], [450, 589], [392, 581]]   \n",
       "289            Mai/title/2   [[569, 958], [614, 958], [614, 982], [569, 982]]   \n",
       "290          THIÊN/title/0   [[400, 272], [604, 272], [604, 328], [400, 328]]   \n",
       "319        Manager/title/3   [[335, 554], [771, 560], [750, 633], [329, 636]]   \n",
       "412           HOAN/title/1  [[504, 2245], [2133, 2242], [2147, 1720], [511...   \n",
       "416        Thợ mộc/title/2     [[97, 182], [235, 201], [225, 229], [67, 227]]   \n",
       "418           HOAN/title/1  [[1051, 1680], [1899, 2843], [2280, 2574], [14...   \n",
       "442         NGUYỄN/title/0  [[777, 889], [2390, 731], [2439, 1222], [800, ...   \n",
       "444         NGUYỄN/title/0  [[1379, 1158], [2451, 967], [2477, 1219], [140...   \n",
       "447            KIM/title/2   [[469, 701], [925, 803], [904, 925], [439, 840]]   \n",
       "492  DONALD TRUMP/title/0   [[299, 1036], [2842, 1046], [2834, 1436], [334...   \n",
       "505          THIÊN/title/0   [[214, 149], [357, 138], [357, 170], [221, 176]]   \n",
       "530          THIÊN/title/0   [[284, 367], [526, 369], [517, 428], [292, 426]]   \n",
       "\n",
       "             text  label link           image  \n",
       "70            TRÍ  title    1  image_1985.jpg  \n",
       "71            TRÍ  title    1  image_1988.jpg  \n",
       "131        NGUYỄN  title    0  image_3300.jpg  \n",
       "133        NGUYỄN  title    0  image_3301.jpg  \n",
       "142         dương  title    1  image_3440.jpg  \n",
       "155          Hồng  title    0  image_3636.jpg  \n",
       "157          Hồng  title    0  image_3638.jpg  \n",
       "159          Hồng  title    0  image_3639.jpg  \n",
       "177           trí  title    3  image_4064.jpg  \n",
       "196          ĐÌNH  title    5  image_4175.jpg  \n",
       "281          tiểu  title    4  image_5092.jpg  \n",
       "289           Mai  title    2  image_5146.jpg  \n",
       "290         THIÊN  title    0  image_5148.jpg  \n",
       "319       Manager  title    3  image_5293.jpg  \n",
       "412          HOAN  title    1  image_6045.jpg  \n",
       "416       Thợ mộc  title    2   image_605.jpg  \n",
       "418          HOAN  title    1  image_6050.jpg  \n",
       "442        NGUYỄN  title    0  image_6378.jpg  \n",
       "444        NGUYỄN  title    0  image_6386.jpg  \n",
       "447           KIM  title    2   image_674.jpg  \n",
       "492  DONALD TRUMP  title   0   image_7407.jpg  \n",
       "505         THIÊN  title    0   image_836.jpg  \n",
       "530         THIÊN  title    0   image_898.jpg  "
      ]
     },
     "execution_count": 35,
     "metadata": {},
     "output_type": "execute_result"
    }
   ],
   "source": [
    "failed_examples(test_NonNA, true=3, predict=0, y_true=y_test_encode, y_pred=y_test_pred)"
   ]
  },
  {
   "cell_type": "markdown",
   "metadata": {
    "id": "1SFvOKiqOE71"
   },
   "source": [
    "### Check the errors between `author` and `other`"
   ]
  },
  {
   "cell_type": "code",
   "execution_count": 36,
   "metadata": {
    "colab": {
     "base_uri": "https://localhost:8080/",
     "height": 1000
    },
    "executionInfo": {
     "elapsed": 355,
     "status": "ok",
     "timestamp": 1669856807590,
     "user": {
      "displayName": "TÂM NGUYỄN MINH",
      "userId": "18113162964843854047"
     },
     "user_tz": -420
    },
    "id": "h_MIA8W6OJr-",
    "outputId": "837e2834-cfe7-48ee-9e60-a803bbe32fe2"
   },
   "outputs": [
    {
     "data": {
      "text/html": [
       "<div>\n",
       "<style scoped>\n",
       "    .dataframe tbody tr th:only-of-type {\n",
       "        vertical-align: middle;\n",
       "    }\n",
       "\n",
       "    .dataframe tbody tr th {\n",
       "        vertical-align: top;\n",
       "    }\n",
       "\n",
       "    .dataframe thead th {\n",
       "        text-align: right;\n",
       "    }\n",
       "</style>\n",
       "<table border=\"1\" class=\"dataframe\">\n",
       "  <thead>\n",
       "    <tr style=\"text-align: right;\">\n",
       "      <th></th>\n",
       "      <th>transcription</th>\n",
       "      <th>points</th>\n",
       "      <th>text</th>\n",
       "      <th>label</th>\n",
       "      <th>link</th>\n",
       "      <th>image</th>\n",
       "    </tr>\n",
       "  </thead>\n",
       "  <tbody>\n",
       "    <tr>\n",
       "      <th>5</th>\n",
       "      <td>(GV chuyên Toán, Trường THPT chuyên/author/1</td>\n",
       "      <td>[[179, 226], [498, 247], [497, 223], [178, 203]]</td>\n",
       "      <td>(GV chuyên Toán, Trường THPT chuyên</td>\n",
       "      <td>author</td>\n",
       "      <td>1</td>\n",
       "      <td>image_1069.jpg</td>\n",
       "    </tr>\n",
       "    <tr>\n",
       "      <th>16</th>\n",
       "      <td>(Giáo viên chuyên Anh, Trường Quốc học Huế)/au...</td>\n",
       "      <td>[[238, 220], [575, 186], [574, 155], [238, 201]]</td>\n",
       "      <td>(Giáo viên chuyên Anh, Trường Quốc học Huế)</td>\n",
       "      <td>author</td>\n",
       "      <td>1</td>\n",
       "      <td>image_1128.jpg</td>\n",
       "    </tr>\n",
       "    <tr>\n",
       "      <th>106</th>\n",
       "      <td>Thái Phạm - Trương Minh Huy - Đỗ Phan Thu H...</td>\n",
       "      <td>[[428, 905], [840, 903], [839, 925], [431, 928]]</td>\n",
       "      <td>Thái Phạm - Trương Minh Huy - Đỗ Phan Thu Hà</td>\n",
       "      <td>author</td>\n",
       "      <td>0</td>\n",
       "      <td>image_277.jpg</td>\n",
       "    </tr>\n",
       "    <tr>\n",
       "      <th>121</th>\n",
       "      <td>Nguyễn Như Quỳnh/author/1</td>\n",
       "      <td>[[535, 229], [671, 228], [671, 248], [534, 252]]</td>\n",
       "      <td>Nguyễn Như Quỳnh</td>\n",
       "      <td>author</td>\n",
       "      <td>1</td>\n",
       "      <td>image_304.jpg</td>\n",
       "    </tr>\n",
       "    <tr>\n",
       "      <th>130</th>\n",
       "      <td>Công/author/1</td>\n",
       "      <td>[[1697, 788], [2386, 835], [2376, 1089], [1685...</td>\n",
       "      <td>Công</td>\n",
       "      <td>author</td>\n",
       "      <td>1</td>\n",
       "      <td>image_3253.jpg</td>\n",
       "    </tr>\n",
       "    <tr>\n",
       "      <th>143</th>\n",
       "      <td>Thành/author/0</td>\n",
       "      <td>[[1355, 325], [1951, 251], [1994, 438], [1373,...</td>\n",
       "      <td>Thành</td>\n",
       "      <td>author</td>\n",
       "      <td>0</td>\n",
       "      <td>image_3440.jpg</td>\n",
       "    </tr>\n",
       "    <tr>\n",
       "      <th>156</th>\n",
       "      <td>Hào/author/0</td>\n",
       "      <td>[[2163, 916], [2355, 1011], [2311, 1097], [212...</td>\n",
       "      <td>Hào</td>\n",
       "      <td>author</td>\n",
       "      <td>0</td>\n",
       "      <td>image_3636.jpg</td>\n",
       "    </tr>\n",
       "    <tr>\n",
       "      <th>158</th>\n",
       "      <td>Hào/author/0</td>\n",
       "      <td>[[1648, 1125], [1834, 1131], [1840, 1194], [16...</td>\n",
       "      <td>Hào</td>\n",
       "      <td>author</td>\n",
       "      <td>0</td>\n",
       "      <td>image_3638.jpg</td>\n",
       "    </tr>\n",
       "    <tr>\n",
       "      <th>160</th>\n",
       "      <td>Hào/author/0</td>\n",
       "      <td>[[2371, 247], [2564, 251], [2572, 349], [2377,...</td>\n",
       "      <td>Hào</td>\n",
       "      <td>author</td>\n",
       "      <td>0</td>\n",
       "      <td>image_3639.jpg</td>\n",
       "    </tr>\n",
       "    <tr>\n",
       "      <th>161</th>\n",
       "      <td>TÁC GIẢ/author/0</td>\n",
       "      <td>[[1977, 813], [2435, 929], [2406, 1052], [1946...</td>\n",
       "      <td>TÁC GIẢ</td>\n",
       "      <td>author</td>\n",
       "      <td>0</td>\n",
       "      <td>image_3658.jpg</td>\n",
       "    </tr>\n",
       "    <tr>\n",
       "      <th>162</th>\n",
       "      <td>TÁC GIẢ/author/0</td>\n",
       "      <td>[[1656, 403], [2334, 384], [2338, 569], [1664,...</td>\n",
       "      <td>TÁC GIẢ</td>\n",
       "      <td>author</td>\n",
       "      <td>0</td>\n",
       "      <td>image_3660.jpg</td>\n",
       "    </tr>\n",
       "    <tr>\n",
       "      <th>163</th>\n",
       "      <td>TÁC GIẢ/author/0</td>\n",
       "      <td>[[1517, 492], [2266, 472], [2263, 681], [1528,...</td>\n",
       "      <td>TÁC GIẢ</td>\n",
       "      <td>author</td>\n",
       "      <td>0</td>\n",
       "      <td>image_3661.jpg</td>\n",
       "    </tr>\n",
       "    <tr>\n",
       "      <th>179</th>\n",
       "      <td>DAISY SMITH/author/0</td>\n",
       "      <td>[[399, 92], [663, 101], [668, 130], [404, 124]]</td>\n",
       "      <td>DAISY SMITH</td>\n",
       "      <td>author</td>\n",
       "      <td>0</td>\n",
       "      <td>image_4064.jpg</td>\n",
       "    </tr>\n",
       "    <tr>\n",
       "      <th>194</th>\n",
       "      <td>BỘ/author/0</td>\n",
       "      <td>[[536, 286], [562, 289], [562, 306], [536, 310]]</td>\n",
       "      <td>BỘ</td>\n",
       "      <td>author</td>\n",
       "      <td>0</td>\n",
       "      <td>image_4163.jpg</td>\n",
       "    </tr>\n",
       "    <tr>\n",
       "      <th>200</th>\n",
       "      <td>(Tổng hợp và biên dịch)/author/1</td>\n",
       "      <td>[[763, 147], [889, 141], [887, 156], [763, 163]]</td>\n",
       "      <td>(Tổng hợp và biên dịch)</td>\n",
       "      <td>author</td>\n",
       "      <td>1</td>\n",
       "      <td>image_4259.jpg</td>\n",
       "    </tr>\n",
       "    <tr>\n",
       "      <th>215</th>\n",
       "      <td>Giám đốc điều hành Pangea Capital Manageme...</td>\n",
       "      <td>[[109, 607], [388, 608], [385, 626], [111, 625]]</td>\n",
       "      <td>Giám đốc điều hành Pangea Capital Manageme...</td>\n",
       "      <td>author</td>\n",
       "      <td>1</td>\n",
       "      <td>image_442.jpg</td>\n",
       "    </tr>\n",
       "    <tr>\n",
       "      <th>216</th>\n",
       "      <td>và PATRICK ROBINSON đồng tác giả quyển sa...</td>\n",
       "      <td>[[82, 636], [412, 639], [412, 657], [84, 657]]</td>\n",
       "      <td>và PATRICK ROBINSON đồng tác giả quyển sa...</td>\n",
       "      <td>author</td>\n",
       "      <td>2</td>\n",
       "      <td>image_442.jpg</td>\n",
       "    </tr>\n",
       "    <tr>\n",
       "      <th>217</th>\n",
       "      <td>đứng đầu danh sách bestseller của New York...</td>\n",
       "      <td>[[118, 655], [381, 655], [378, 672], [116, 674]]</td>\n",
       "      <td>đứng đầu danh sách bestseller của New York...</td>\n",
       "      <td>author</td>\n",
       "      <td>3</td>\n",
       "      <td>image_442.jpg</td>\n",
       "    </tr>\n",
       "    <tr>\n",
       "      <th>241</th>\n",
       "      <td>TRẦN LỤC/author/0</td>\n",
       "      <td>[[213, 95], [283, 98], [282, 117], [213, 114]]</td>\n",
       "      <td>TRẦN LỤC</td>\n",
       "      <td>author</td>\n",
       "      <td>0</td>\n",
       "      <td>image_4463.jpg</td>\n",
       "    </tr>\n",
       "    <tr>\n",
       "      <th>274</th>\n",
       "      <td>NHẤT/author/1</td>\n",
       "      <td>[[1658, 838], [2111, 808], [2122, 959], [1669,...</td>\n",
       "      <td>NHẤT</td>\n",
       "      <td>author</td>\n",
       "      <td>1</td>\n",
       "      <td>image_5029.jpg</td>\n",
       "    </tr>\n",
       "    <tr>\n",
       "      <th>291</th>\n",
       "      <td>CAO/author/0</td>\n",
       "      <td>[[535, 564], [598, 564], [598, 585], [535, 585]]</td>\n",
       "      <td>CAO</td>\n",
       "      <td>author</td>\n",
       "      <td>0</td>\n",
       "      <td>image_5148.jpg</td>\n",
       "    </tr>\n",
       "    <tr>\n",
       "      <th>297</th>\n",
       "      <td>Tác giả:/author/0</td>\n",
       "      <td>[[316, 222], [396, 177], [408, 199], [331, 243]]</td>\n",
       "      <td>Tác giả:</td>\n",
       "      <td>author</td>\n",
       "      <td>0</td>\n",
       "      <td>image_5183.jpg</td>\n",
       "    </tr>\n",
       "    <tr>\n",
       "      <th>327</th>\n",
       "      <td>Tác giả nổi tiếng của/author/2</td>\n",
       "      <td>[[603, 807], [721, 808], [721, 824], [605, 824]]</td>\n",
       "      <td>Tác giả nổi tiếng của</td>\n",
       "      <td>author</td>\n",
       "      <td>2</td>\n",
       "      <td>image_5308.jpg</td>\n",
       "    </tr>\n",
       "    <tr>\n",
       "      <th>328</th>\n",
       "      <td>Tôi Tài Giỏi, Bạn Cũng Thế!/author/3</td>\n",
       "      <td>[[602, 824], [759, 825], [759, 843], [602, 842]]</td>\n",
       "      <td>Tôi Tài Giỏi, Bạn Cũng Thế!</td>\n",
       "      <td>author</td>\n",
       "      <td>3</td>\n",
       "      <td>image_5308.jpg</td>\n",
       "    </tr>\n",
       "    <tr>\n",
       "      <th>329</th>\n",
       "      <td>Bí Quyết Tay Trắng Thành Triệu Phú/author/4</td>\n",
       "      <td>[[600, 842], [794, 843], [793, 860], [601, 860]]</td>\n",
       "      <td>Bí Quyết Tay Trắng Thành Triệu Phú</td>\n",
       "      <td>author</td>\n",
       "      <td>4</td>\n",
       "      <td>image_5308.jpg</td>\n",
       "    </tr>\n",
       "    <tr>\n",
       "      <th>330</th>\n",
       "      <td>CEO của Zappos.com/author/1</td>\n",
       "      <td>[[468, 542], [626, 543], [627, 555], [468, 555]]</td>\n",
       "      <td>CEO của Zappos.com</td>\n",
       "      <td>author</td>\n",
       "      <td>1</td>\n",
       "      <td>image_5324.jpg</td>\n",
       "    </tr>\n",
       "    <tr>\n",
       "      <th>332</th>\n",
       "      <td>mua lại với giá 1,2 tỷ đô-la/author/3</td>\n",
       "      <td>[[466, 575], [628, 572], [628, 585], [467, 587]]</td>\n",
       "      <td>mua lại với giá 1,2 tỷ đô-la</td>\n",
       "      <td>author</td>\n",
       "      <td>3</td>\n",
       "      <td>image_5324.jpg</td>\n",
       "    </tr>\n",
       "    <tr>\n",
       "      <th>374</th>\n",
       "      <td>Tác giả bộ sách/author/1</td>\n",
       "      <td>[[297, 277], [409, 274], [411, 296], [300, 293]]</td>\n",
       "      <td>Tác giả bộ sách</td>\n",
       "      <td>author</td>\n",
       "      <td>1</td>\n",
       "      <td>image_5746.jpg</td>\n",
       "    </tr>\n",
       "    <tr>\n",
       "      <th>375</th>\n",
       "      <td>Những người khổng lồ châu Á/author/2</td>\n",
       "      <td>[[236, 294], [473, 293], [472, 314], [238, 316]]</td>\n",
       "      <td>Những người khổng lồ châu Á</td>\n",
       "      <td>author</td>\n",
       "      <td>2</td>\n",
       "      <td>image_5746.jpg</td>\n",
       "    </tr>\n",
       "    <tr>\n",
       "      <th>381</th>\n",
       "      <td>TÁC GIẢ CUỐN SÁCH BÁN CHẠY THEO THE NEW YORK T...</td>\n",
       "      <td>[[100, 64], [426, 64], [426, 81], [102, 81]]</td>\n",
       "      <td>TÁC GIẢ CUỐN SÁCH BÁN CHẠY THEO THE NEW YORK T...</td>\n",
       "      <td>author</td>\n",
       "      <td>1</td>\n",
       "      <td>image_5757.jpg</td>\n",
       "    </tr>\n",
       "    <tr>\n",
       "      <th>463</th>\n",
       "      <td>THIỆU/author/0</td>\n",
       "      <td>[[1078, 251], [1439, 165], [1464, 306], [1126,...</td>\n",
       "      <td>THIỆU</td>\n",
       "      <td>author</td>\n",
       "      <td>0</td>\n",
       "      <td>image_6897.jpg</td>\n",
       "    </tr>\n",
       "    <tr>\n",
       "      <th>471</th>\n",
       "      <td>LỤC BĂNG/author/0</td>\n",
       "      <td>[[2116, 846], [2489, 825], [2493, 878], [2118,...</td>\n",
       "      <td>LỤC BĂNG</td>\n",
       "      <td>author</td>\n",
       "      <td>0</td>\n",
       "      <td>image_7018.jpg</td>\n",
       "    </tr>\n",
       "    <tr>\n",
       "      <th>473</th>\n",
       "      <td>CAO CONG THAN/author/0</td>\n",
       "      <td>[[948, 0], [1907, 0], [1902, 72], [957, 119]]</td>\n",
       "      <td>CAO CONG THAN</td>\n",
       "      <td>author</td>\n",
       "      <td>0</td>\n",
       "      <td>image_7066.jpg</td>\n",
       "    </tr>\n",
       "    <tr>\n",
       "      <th>495</th>\n",
       "      <td>(Giám đốc Trung tâm Giao dịch Chứng khoán TPHC...</td>\n",
       "      <td>[[361, 1772], [1600, 995], [1639, 1068], [386,...</td>\n",
       "      <td>(Giám đốc Trung tâm Giao dịch Chứng khoán TPHCM)</td>\n",
       "      <td>author</td>\n",
       "      <td>4</td>\n",
       "      <td>image_7531.jpg</td>\n",
       "    </tr>\n",
       "    <tr>\n",
       "      <th>506</th>\n",
       "      <td>CAO/author/0</td>\n",
       "      <td>[[309, 315], [356, 312], [359, 327], [311, 330]]</td>\n",
       "      <td>CAO</td>\n",
       "      <td>author</td>\n",
       "      <td>0</td>\n",
       "      <td>image_836.jpg</td>\n",
       "    </tr>\n",
       "    <tr>\n",
       "      <th>531</th>\n",
       "      <td>CAO/author/0</td>\n",
       "      <td>[[443, 704], [514, 705], [511, 728], [445, 725]]</td>\n",
       "      <td>CAO</td>\n",
       "      <td>author</td>\n",
       "      <td>0</td>\n",
       "      <td>image_898.jpg</td>\n",
       "    </tr>\n",
       "  </tbody>\n",
       "</table>\n",
       "</div>"
      ],
      "text/plain": [
       "                                         transcription  \\\n",
       "5         (GV chuyên Toán, Trường THPT chuyên/author/1   \n",
       "16   (Giáo viên chuyên Anh, Trường Quốc học Huế)/au...   \n",
       "106  Thái Phạm - Trương Minh Huy - Đỗ Phan Thu H...   \n",
       "121                        Nguyễn Như Quỳnh/author/1   \n",
       "130                                      Công/author/1   \n",
       "143                                     Thành/author/0   \n",
       "156                                       Hào/author/0   \n",
       "158                                       Hào/author/0   \n",
       "160                                       Hào/author/0   \n",
       "161                                   TÁC GIẢ/author/0   \n",
       "162                                   TÁC GIẢ/author/0   \n",
       "163                                   TÁC GIẢ/author/0   \n",
       "179                               DAISY SMITH/author/0   \n",
       "194                                        BỘ/author/0   \n",
       "200                   (Tổng hợp và biên dịch)/author/1   \n",
       "215  Giám đốc điều hành Pangea Capital Manageme...   \n",
       "216  và PATRICK ROBINSON đồng tác giả quyển sa...   \n",
       "217  đứng đầu danh sách bestseller của New York...   \n",
       "241                                  TRẦN LỤC/author/0   \n",
       "274                                      NHẤT/author/1   \n",
       "291                                       CAO/author/0   \n",
       "297                                  Tác giả:/author/0   \n",
       "327                Tác giả nổi tiếng của/author/2   \n",
       "328          Tôi Tài Giỏi, Bạn Cũng Thế!/author/3   \n",
       "329  Bí Quyết Tay Trắng Thành Triệu Phú/author/4   \n",
       "330                       CEO của Zappos.com/author/1   \n",
       "332          mua lại với giá 1,2 tỷ đô-la/author/3   \n",
       "374                           Tác giả bộ sách/author/1   \n",
       "375               Những người khổng lồ châu Á/author/2   \n",
       "381  TÁC GIẢ CUỐN SÁCH BÁN CHẠY THEO THE NEW YORK T...   \n",
       "463                                     THIỆU/author/0   \n",
       "471                                  LỤC BĂNG/author/0   \n",
       "473                             CAO CONG THAN/author/0   \n",
       "495  (Giám đốc Trung tâm Giao dịch Chứng khoán TPHC...   \n",
       "506                                       CAO/author/0   \n",
       "531                                       CAO/author/0   \n",
       "\n",
       "                                                points  \\\n",
       "5     [[179, 226], [498, 247], [497, 223], [178, 203]]   \n",
       "16    [[238, 220], [575, 186], [574, 155], [238, 201]]   \n",
       "106   [[428, 905], [840, 903], [839, 925], [431, 928]]   \n",
       "121   [[535, 229], [671, 228], [671, 248], [534, 252]]   \n",
       "130  [[1697, 788], [2386, 835], [2376, 1089], [1685...   \n",
       "143  [[1355, 325], [1951, 251], [1994, 438], [1373,...   \n",
       "156  [[2163, 916], [2355, 1011], [2311, 1097], [212...   \n",
       "158  [[1648, 1125], [1834, 1131], [1840, 1194], [16...   \n",
       "160  [[2371, 247], [2564, 251], [2572, 349], [2377,...   \n",
       "161  [[1977, 813], [2435, 929], [2406, 1052], [1946...   \n",
       "162  [[1656, 403], [2334, 384], [2338, 569], [1664,...   \n",
       "163  [[1517, 492], [2266, 472], [2263, 681], [1528,...   \n",
       "179    [[399, 92], [663, 101], [668, 130], [404, 124]]   \n",
       "194   [[536, 286], [562, 289], [562, 306], [536, 310]]   \n",
       "200   [[763, 147], [889, 141], [887, 156], [763, 163]]   \n",
       "215   [[109, 607], [388, 608], [385, 626], [111, 625]]   \n",
       "216     [[82, 636], [412, 639], [412, 657], [84, 657]]   \n",
       "217   [[118, 655], [381, 655], [378, 672], [116, 674]]   \n",
       "241     [[213, 95], [283, 98], [282, 117], [213, 114]]   \n",
       "274  [[1658, 838], [2111, 808], [2122, 959], [1669,...   \n",
       "291   [[535, 564], [598, 564], [598, 585], [535, 585]]   \n",
       "297   [[316, 222], [396, 177], [408, 199], [331, 243]]   \n",
       "327   [[603, 807], [721, 808], [721, 824], [605, 824]]   \n",
       "328   [[602, 824], [759, 825], [759, 843], [602, 842]]   \n",
       "329   [[600, 842], [794, 843], [793, 860], [601, 860]]   \n",
       "330   [[468, 542], [626, 543], [627, 555], [468, 555]]   \n",
       "332   [[466, 575], [628, 572], [628, 585], [467, 587]]   \n",
       "374   [[297, 277], [409, 274], [411, 296], [300, 293]]   \n",
       "375   [[236, 294], [473, 293], [472, 314], [238, 316]]   \n",
       "381       [[100, 64], [426, 64], [426, 81], [102, 81]]   \n",
       "463  [[1078, 251], [1439, 165], [1464, 306], [1126,...   \n",
       "471  [[2116, 846], [2489, 825], [2493, 878], [2118,...   \n",
       "473      [[948, 0], [1907, 0], [1902, 72], [957, 119]]   \n",
       "495  [[361, 1772], [1600, 995], [1639, 1068], [386,...   \n",
       "506   [[309, 315], [356, 312], [359, 327], [311, 330]]   \n",
       "531   [[443, 704], [514, 705], [511, 728], [445, 725]]   \n",
       "\n",
       "                                                  text   label link  \\\n",
       "5                  (GV chuyên Toán, Trường THPT chuyên  author    1   \n",
       "16         (Giáo viên chuyên Anh, Trường Quốc học Huế)  author    1   \n",
       "106   Thái Phạm - Trương Minh Huy - Đỗ Phan Thu Hà  author    0   \n",
       "121                                 Nguyễn Như Quỳnh  author    1   \n",
       "130                                               Công  author    1   \n",
       "143                                              Thành  author    0   \n",
       "156                                                Hào  author    0   \n",
       "158                                                Hào  author    0   \n",
       "160                                                Hào  author    0   \n",
       "161                                            TÁC GIẢ  author    0   \n",
       "162                                            TÁC GIẢ  author    0   \n",
       "163                                            TÁC GIẢ  author    0   \n",
       "179                                        DAISY SMITH  author    0   \n",
       "194                                                 BỘ  author    0   \n",
       "200                            (Tổng hợp và biên dịch)  author    1   \n",
       "215  Giám đốc điều hành Pangea Capital Manageme...  author    1   \n",
       "216  và PATRICK ROBINSON đồng tác giả quyển sa...  author    2   \n",
       "217  đứng đầu danh sách bestseller của New York...  author    3   \n",
       "241                                           TRẦN LỤC  author    0   \n",
       "274                                               NHẤT  author    1   \n",
       "291                                                CAO  author    0   \n",
       "297                                           Tác giả:  author    0   \n",
       "327                         Tác giả nổi tiếng của  author    2   \n",
       "328                   Tôi Tài Giỏi, Bạn Cũng Thế!  author    3   \n",
       "329           Bí Quyết Tay Trắng Thành Triệu Phú  author    4   \n",
       "330                                CEO của Zappos.com  author    1   \n",
       "332                   mua lại với giá 1,2 tỷ đô-la  author    3   \n",
       "374                                    Tác giả bộ sách  author    1   \n",
       "375                        Những người khổng lồ châu Á  author    2   \n",
       "381  TÁC GIẢ CUỐN SÁCH BÁN CHẠY THEO THE NEW YORK T...  author    1   \n",
       "463                                              THIỆU  author    0   \n",
       "471                                           LỤC BĂNG  author    0   \n",
       "473                                      CAO CONG THAN  author    0   \n",
       "495   (Giám đốc Trung tâm Giao dịch Chứng khoán TPHCM)  author    4   \n",
       "506                                                CAO  author    0   \n",
       "531                                                CAO  author    0   \n",
       "\n",
       "              image  \n",
       "5    image_1069.jpg  \n",
       "16   image_1128.jpg  \n",
       "106   image_277.jpg  \n",
       "121   image_304.jpg  \n",
       "130  image_3253.jpg  \n",
       "143  image_3440.jpg  \n",
       "156  image_3636.jpg  \n",
       "158  image_3638.jpg  \n",
       "160  image_3639.jpg  \n",
       "161  image_3658.jpg  \n",
       "162  image_3660.jpg  \n",
       "163  image_3661.jpg  \n",
       "179  image_4064.jpg  \n",
       "194  image_4163.jpg  \n",
       "200  image_4259.jpg  \n",
       "215   image_442.jpg  \n",
       "216   image_442.jpg  \n",
       "217   image_442.jpg  \n",
       "241  image_4463.jpg  \n",
       "274  image_5029.jpg  \n",
       "291  image_5148.jpg  \n",
       "297  image_5183.jpg  \n",
       "327  image_5308.jpg  \n",
       "328  image_5308.jpg  \n",
       "329  image_5308.jpg  \n",
       "330  image_5324.jpg  \n",
       "332  image_5324.jpg  \n",
       "374  image_5746.jpg  \n",
       "375  image_5746.jpg  \n",
       "381  image_5757.jpg  \n",
       "463  image_6897.jpg  \n",
       "471  image_7018.jpg  \n",
       "473  image_7066.jpg  \n",
       "495  image_7531.jpg  \n",
       "506   image_836.jpg  \n",
       "531   image_898.jpg  "
      ]
     },
     "execution_count": 36,
     "metadata": {},
     "output_type": "execute_result"
    }
   ],
   "source": [
    "failed_examples(test_NonNA, true=0, predict=1, y_true=y_test_encode, y_pred=y_test_pred)"
   ]
  },
  {
   "cell_type": "code",
   "execution_count": 37,
   "metadata": {
    "colab": {
     "base_uri": "https://localhost:8080/",
     "height": 1000
    },
    "executionInfo": {
     "elapsed": 632,
     "status": "ok",
     "timestamp": 1669856804565,
     "user": {
      "displayName": "TÂM NGUYỄN MINH",
      "userId": "18113162964843854047"
     },
     "user_tz": -420
    },
    "id": "IA4J6RtLOJr-",
    "outputId": "e3be425d-893b-49a8-be76-1f46d4866cbf"
   },
   "outputs": [
    {
     "data": {
      "text/html": [
       "<div>\n",
       "<style scoped>\n",
       "    .dataframe tbody tr th:only-of-type {\n",
       "        vertical-align: middle;\n",
       "    }\n",
       "\n",
       "    .dataframe tbody tr th {\n",
       "        vertical-align: top;\n",
       "    }\n",
       "\n",
       "    .dataframe thead th {\n",
       "        text-align: right;\n",
       "    }\n",
       "</style>\n",
       "<table border=\"1\" class=\"dataframe\">\n",
       "  <thead>\n",
       "    <tr style=\"text-align: right;\">\n",
       "      <th></th>\n",
       "      <th>transcription</th>\n",
       "      <th>points</th>\n",
       "      <th>text</th>\n",
       "      <th>label</th>\n",
       "      <th>link</th>\n",
       "      <th>image</th>\n",
       "    </tr>\n",
       "  </thead>\n",
       "  <tbody>\n",
       "    <tr>\n",
       "      <th>2</th>\n",
       "      <td>BỒI DƯỠNG HS KHÁ, GIỎI LỚP/other/0</td>\n",
       "      <td>[[265, 758], [399, 754], [400, 739], [265, 743]]</td>\n",
       "      <td>BỒI DƯỠNG HS KHÁ, GIỎI LỚP</td>\n",
       "      <td>other</td>\n",
       "      <td>0</td>\n",
       "      <td>image_1066.jpg</td>\n",
       "    </tr>\n",
       "    <tr>\n",
       "      <th>48</th>\n",
       "      <td>BỘ GIÁO DỤC VÀ ĐÀO TẠO/other/2</td>\n",
       "      <td>[[507, 188], [1072, 275], [1075, 342], [501, 2...</td>\n",
       "      <td>BỘ GIÁO DỤC VÀ ĐÀO TẠO</td>\n",
       "      <td>other</td>\n",
       "      <td>2</td>\n",
       "      <td>image_1793.jpg</td>\n",
       "    </tr>\n",
       "    <tr>\n",
       "      <th>74</th>\n",
       "      <td>Vũ/other/2</td>\n",
       "      <td>[[839, 399], [901, 424], [878, 469], [822, 441]]</td>\n",
       "      <td>Vũ</td>\n",
       "      <td>other</td>\n",
       "      <td>2</td>\n",
       "      <td>image_2005.jpg</td>\n",
       "    </tr>\n",
       "    <tr>\n",
       "      <th>96</th>\n",
       "      <td>85 Trần Đại Nghĩa - HBT - HN/other/0</td>\n",
       "      <td>[[48, 53], [220, 52], [220, 73], [49, 72]]</td>\n",
       "      <td>85 Trần Đại Nghĩa - HBT - HN</td>\n",
       "      <td>other</td>\n",
       "      <td>0</td>\n",
       "      <td>image_232.jpg</td>\n",
       "    </tr>\n",
       "    <tr>\n",
       "      <th>201</th>\n",
       "      <td>(Nguyên Trưởng bộ môn Phương pháp dạy Toán Tiể...</td>\n",
       "      <td>[[401, 120], [800, 92], [802, 120], [401, 146]]</td>\n",
       "      <td>(Nguyên Trưởng bộ môn Phương pháp dạy Toán Tiể...</td>\n",
       "      <td>other</td>\n",
       "      <td>0</td>\n",
       "      <td>image_4263.jpg</td>\n",
       "    </tr>\n",
       "    <tr>\n",
       "      <th>233</th>\n",
       "      <td>Thiết lập/other/5</td>\n",
       "      <td>[[339, 888], [398, 890], [401, 908], [339, 906]]</td>\n",
       "      <td>Thiết lập</td>\n",
       "      <td>other</td>\n",
       "      <td>5</td>\n",
       "      <td>image_4427.jpg</td>\n",
       "    </tr>\n",
       "    <tr>\n",
       "      <th>277</th>\n",
       "      <td>Nguyễn Đình Hách, Nguyễn Tiến Quang/other/1</td>\n",
       "      <td>[[1110, 2826], [2210, 2816], [2210, 2885], [11...</td>\n",
       "      <td>Nguyễn Đình Hách, Nguyễn Tiến Quang</td>\n",
       "      <td>other</td>\n",
       "      <td>1</td>\n",
       "      <td>image_5048.jpg</td>\n",
       "    </tr>\n",
       "    <tr>\n",
       "      <th>367</th>\n",
       "      <td>Dương Hoàng Thanh Giang/other/1</td>\n",
       "      <td>[[283, 1191], [598, 1193], [601, 1229], [281, ...</td>\n",
       "      <td>Dương Hoàng Thanh Giang</td>\n",
       "      <td>other</td>\n",
       "      <td>1</td>\n",
       "      <td>image_5696.jpg</td>\n",
       "    </tr>\n",
       "    <tr>\n",
       "      <th>372</th>\n",
       "      <td>TOM PLATE BÀN VỀ CHÂU Á/other/1</td>\n",
       "      <td>[[119, 620], [364, 616], [364, 640], [122, 637]]</td>\n",
       "      <td>TOM PLATE BÀN VỀ CHÂU Á</td>\n",
       "      <td>other</td>\n",
       "      <td>1</td>\n",
       "      <td>image_5746.jpg</td>\n",
       "    </tr>\n",
       "    <tr>\n",
       "      <th>401</th>\n",
       "      <td>House/other/9</td>\n",
       "      <td>[[379, 1076], [434, 1075], [434, 1059], [378, ...</td>\n",
       "      <td>House</td>\n",
       "      <td>other</td>\n",
       "      <td>9</td>\n",
       "      <td>image_5843.jpg</td>\n",
       "    </tr>\n",
       "    <tr>\n",
       "      <th>453</th>\n",
       "      <td>Cát hung họa phúc,/other/12</td>\n",
       "      <td>[[491, 3271], [1004, 3285], [1000, 3352], [492...</td>\n",
       "      <td>Cát hung họa phúc,</td>\n",
       "      <td>other</td>\n",
       "      <td>12</td>\n",
       "      <td>image_6897.jpg</td>\n",
       "    </tr>\n",
       "    <tr>\n",
       "      <th>480</th>\n",
       "      <td>(Biên soạn/other/0</td>\n",
       "      <td>[[1884, 2305], [2203, 2311], [2194, 2368], [18...</td>\n",
       "      <td>(Biên soạn</td>\n",
       "      <td>other</td>\n",
       "      <td>0</td>\n",
       "      <td>image_7205.jpg</td>\n",
       "    </tr>\n",
       "    <tr>\n",
       "      <th>537</th>\n",
       "      <td>Mark Victor Hansen,/other/5</td>\n",
       "      <td>[[128, 868], [287, 868], [287, 852], [129, 852]]</td>\n",
       "      <td>Mark Victor Hansen,</td>\n",
       "      <td>other</td>\n",
       "      <td>5</td>\n",
       "      <td>image_961.jpg</td>\n",
       "    </tr>\n",
       "  </tbody>\n",
       "</table>\n",
       "</div>"
      ],
      "text/plain": [
       "                                         transcription  \\\n",
       "2                   BỒI DƯỠNG HS KHÁ, GIỎI LỚP/other/0   \n",
       "48                      BỘ GIÁO DỤC VÀ ĐÀO TẠO/other/2   \n",
       "74                                          Vũ/other/2   \n",
       "96                85 Trần Đại Nghĩa - HBT - HN/other/0   \n",
       "201  (Nguyên Trưởng bộ môn Phương pháp dạy Toán Tiể...   \n",
       "233                                  Thiết lập/other/5   \n",
       "277        Nguyễn Đình Hách, Nguyễn Tiến Quang/other/1   \n",
       "367                    Dương Hoàng Thanh Giang/other/1   \n",
       "372                    TOM PLATE BÀN VỀ CHÂU Á/other/1   \n",
       "401                                      House/other/9   \n",
       "453                        Cát hung họa phúc,/other/12   \n",
       "480                                 (Biên soạn/other/0   \n",
       "537                        Mark Victor Hansen,/other/5   \n",
       "\n",
       "                                                points  \\\n",
       "2     [[265, 758], [399, 754], [400, 739], [265, 743]]   \n",
       "48   [[507, 188], [1072, 275], [1075, 342], [501, 2...   \n",
       "74    [[839, 399], [901, 424], [878, 469], [822, 441]]   \n",
       "96          [[48, 53], [220, 52], [220, 73], [49, 72]]   \n",
       "201    [[401, 120], [800, 92], [802, 120], [401, 146]]   \n",
       "233   [[339, 888], [398, 890], [401, 908], [339, 906]]   \n",
       "277  [[1110, 2826], [2210, 2816], [2210, 2885], [11...   \n",
       "367  [[283, 1191], [598, 1193], [601, 1229], [281, ...   \n",
       "372   [[119, 620], [364, 616], [364, 640], [122, 637]]   \n",
       "401  [[379, 1076], [434, 1075], [434, 1059], [378, ...   \n",
       "453  [[491, 3271], [1004, 3285], [1000, 3352], [492...   \n",
       "480  [[1884, 2305], [2203, 2311], [2194, 2368], [18...   \n",
       "537   [[128, 868], [287, 868], [287, 852], [129, 852]]   \n",
       "\n",
       "                                                  text  label link  \\\n",
       "2                           BỒI DƯỠNG HS KHÁ, GIỎI LỚP  other    0   \n",
       "48                              BỘ GIÁO DỤC VÀ ĐÀO TẠO  other    2   \n",
       "74                                                  Vũ  other    2   \n",
       "96                        85 Trần Đại Nghĩa - HBT - HN  other    0   \n",
       "201  (Nguyên Trưởng bộ môn Phương pháp dạy Toán Tiể...  other    0   \n",
       "233                                          Thiết lập  other    5   \n",
       "277                Nguyễn Đình Hách, Nguyễn Tiến Quang  other    1   \n",
       "367                            Dương Hoàng Thanh Giang  other    1   \n",
       "372                            TOM PLATE BÀN VỀ CHÂU Á  other    1   \n",
       "401                                              House  other    9   \n",
       "453                                 Cát hung họa phúc,  other   12   \n",
       "480                                         (Biên soạn  other    0   \n",
       "537                                Mark Victor Hansen,  other    5   \n",
       "\n",
       "              image  \n",
       "2    image_1066.jpg  \n",
       "48   image_1793.jpg  \n",
       "74   image_2005.jpg  \n",
       "96    image_232.jpg  \n",
       "201  image_4263.jpg  \n",
       "233  image_4427.jpg  \n",
       "277  image_5048.jpg  \n",
       "367  image_5696.jpg  \n",
       "372  image_5746.jpg  \n",
       "401  image_5843.jpg  \n",
       "453  image_6897.jpg  \n",
       "480  image_7205.jpg  \n",
       "537   image_961.jpg  "
      ]
     },
     "execution_count": 37,
     "metadata": {},
     "output_type": "execute_result"
    }
   ],
   "source": [
    "failed_examples(test_NonNA, true=1, predict=0, y_true=y_test_encode, y_pred=y_test_pred)"
   ]
  },
  {
   "cell_type": "markdown",
   "metadata": {
    "id": "URABM-iLHTt2"
   },
   "source": [
    "### Nhận xét: \n",
    "- Phần lớn các lỗi nhầm lẫn đều khó phân biệt và không thể chỉ dựa vào text. Có lẽ việc đưa thêm tọa độ bounding box vào input sẽ cho ra kết quả chính xác hơn.\n",
    "- Bộ dữ liệu còn một số vấn đề, nhiều trường hợp cùng 1 tình huống nhưng kết quả lại khác nhau, đặc biệt là các tình huống giữa 2 nhãn `author` và `other`"
   ]
  }
 ],
 "metadata": {
  "colab": {
   "collapsed_sections": [
    "Dab3TsVTRf2z"
   ],
   "provenance": []
  },
  "kernelspec": {
   "display_name": "Python 3 (ipykernel)",
   "language": "python",
   "name": "python3"
  },
  "language_info": {
   "codemirror_mode": {
    "name": "ipython",
    "version": 3
   },
   "file_extension": ".py",
   "mimetype": "text/x-python",
   "name": "python",
   "nbconvert_exporter": "python",
   "pygments_lexer": "ipython3",
   "version": "3.9.16"
  }
 },
 "nbformat": 4,
 "nbformat_minor": 4
}
